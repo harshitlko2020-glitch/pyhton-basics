{
 "cells": [
  {
   "cell_type": "code",
   "execution_count": 2,
   "id": "8069e855",
   "metadata": {},
   "outputs": [
    {
     "name": "stdout",
     "output_type": "stream",
     "text": [
      "even\n"
     ]
    }
   ],
   "source": [
    "num = int(input('enter your number'))\n",
    "\n",
    "if num % 2 == 0:\n",
    "    print('even')\n",
    "else:\n",
    "    print('odd')"
   ]
  },
  {
   "cell_type": "code",
   "execution_count": 3,
   "id": "edc8f837",
   "metadata": {},
   "outputs": [
    {
     "name": "stdout",
     "output_type": "stream",
     "text": [
      "odd\n",
      "thank you\n"
     ]
    }
   ],
   "source": [
    "num = int(input('enter your number'))\n",
    "\n",
    "if num % 2 == 0:\n",
    "    print('even')\n",
    "else:\n",
    "    print('odd')\n",
    "print('thank you')"
   ]
  },
  {
   "cell_type": "code",
   "execution_count": 10,
   "id": "4ff7c743",
   "metadata": {},
   "outputs": [
    {
     "name": "stdout",
     "output_type": "stream",
     "text": [
      "normal\n"
     ]
    }
   ],
   "source": [
    "temp  = float(input('enter temperature'))\n",
    "\n",
    "if temp<10:\n",
    "    print('freezing')\n",
    "elif temp<=30:\n",
    "    print('normal')\n",
    "elif temp>30:\n",
    "    print('hot')"
   ]
  },
  {
   "cell_type": "code",
   "execution_count": 14,
   "id": "3bc540aa",
   "metadata": {},
   "outputs": [
    {
     "name": "stdout",
     "output_type": "stream",
     "text": [
      "invalid temp\n"
     ]
    }
   ],
   "source": [
    "temp  = float(input('enter temperature'))\n",
    "\n",
    "if temp<10:\n",
    "    print('freezing')\n",
    "elif temp<=30:\n",
    "    print('normal')\n",
    "elif temp>30 and temp<=50:\n",
    "    print('hot')\n",
    "\n",
    "else:\n",
    "    print('invalid temp')"
   ]
  },
  {
   "cell_type": "markdown",
   "id": "6e058794",
   "metadata": {},
   "source": [
    "# wap to check if a number is divisible by 7 and 11"
   ]
  },
  {
   "cell_type": "code",
   "execution_count": 18,
   "id": "01267e23",
   "metadata": {},
   "outputs": [
    {
     "name": "stdout",
     "output_type": "stream",
     "text": [
      "divisible\n"
     ]
    }
   ],
   "source": [
    "num = int(input('enter a number'))\n",
    "if num % 7 == 0 and num % 11 == 0:\n",
    "    print('divisible')\n",
    "else:\n",
    "    print('not divisible')"
   ]
  },
  {
   "cell_type": "code",
   "execution_count": 1,
   "id": "a9591292",
   "metadata": {},
   "outputs": [],
   "source": [
    "# wap to enter the sides of triangle and check the type of triangle"
   ]
  },
  {
   "cell_type": "code",
   "execution_count": 7,
   "id": "452fd656",
   "metadata": {},
   "outputs": [
    {
     "name": "stdout",
     "output_type": "stream",
     "text": [
      "scalene\n"
     ]
    }
   ],
   "source": [
    "a = int(input('enter side a'))\n",
    "b = int(input('enter side b'))\n",
    "c = int(input('enter side c'))\n",
    "\n",
    "if a == b and b == c and c == a:\n",
    "    print('equilateral')\n",
    "elif a == b or b == c or c == a:\n",
    "    print('isoceles')\n",
    "elif a != b and b !=c and c != a:\n",
    "    print('scalene')\n",
    "\n",
    "\n"
   ]
  },
  {
   "cell_type": "markdown",
   "id": "369aa003",
   "metadata": {},
   "source": [
    "# wap to check if a number is perfect square"
   ]
  },
  {
   "cell_type": "code",
   "execution_count": 12,
   "id": "011e85fc",
   "metadata": {},
   "outputs": [
    {
     "name": "stdout",
     "output_type": "stream",
     "text": [
      "not perfect\n"
     ]
    }
   ],
   "source": [
    "num = int(input('enter a number'))\n",
    "sqrtt = num * 0.5\n",
    "if int(sqrtt) == sqrtt:\n",
    "    print('perfect square')\n",
    "else:\n",
    "    print('not perfect')"
   ]
  },
  {
   "cell_type": "code",
   "execution_count": 13,
   "id": "ff603a47",
   "metadata": {},
   "outputs": [],
   "source": [
    "# wap to check if a number is negative positive or zero"
   ]
  },
  {
   "cell_type": "code",
   "execution_count": 14,
   "id": "b1fbab10",
   "metadata": {},
   "outputs": [
    {
     "name": "stdout",
     "output_type": "stream",
     "text": [
      "positive\n"
     ]
    }
   ],
   "source": [
    "num = int(input('enter a number'))\n",
    "if num < 0:\n",
    "    print('negative')\n",
    "elif num > 0:\n",
    "    print('positive')\n",
    "else:\n",
    "    print('zero')"
   ]
  },
  {
   "cell_type": "code",
   "execution_count": 15,
   "id": "bcf9c5af",
   "metadata": {},
   "outputs": [],
   "source": [
    "# wap to display grade on marks input by the user\n",
    "# 90 - 100 : A\n",
    "# 70 - 90 :B \n",
    "# invalid"
   ]
  },
  {
   "cell_type": "code",
   "execution_count": 31,
   "id": "c9605ede",
   "metadata": {},
   "outputs": [
    {
     "name": "stdout",
     "output_type": "stream",
     "text": [
      "grade B\n"
     ]
    }
   ],
   "source": [
    "marks = float(input('enter marks'))\n",
    "if marks >= 90 and marks <= 100:\n",
    "    print('grade is A')\n",
    "elif marks >= 70 and marks <= 90:\n",
    "    print('grade B')\n",
    "elif marks < 40:\n",
    "    print('fail')\n",
    "else:\n",
    "    print('invalid input')"
   ]
  },
  {
   "cell_type": "code",
   "execution_count": null,
   "id": "ac0ea7d2",
   "metadata": {},
   "outputs": [],
   "source": []
  }
 ],
 "metadata": {
  "kernelspec": {
   "display_name": "base",
   "language": "python",
   "name": "python3"
  },
  "language_info": {
   "codemirror_mode": {
    "name": "ipython",
    "version": 3
   },
   "file_extension": ".py",
   "mimetype": "text/x-python",
   "name": "python",
   "nbconvert_exporter": "python",
   "pygments_lexer": "ipython3",
   "version": "3.13.5"
  }
 },
 "nbformat": 4,
 "nbformat_minor": 5
}
