{
 "cells": [
  {
   "cell_type": "code",
   "execution_count": 1,
   "id": "35759608",
   "metadata": {},
   "outputs": [],
   "source": [
    "def add():\n",
    "    a = 10\n",
    "    b = 20\n",
    "    print(a+b)"
   ]
  },
  {
   "cell_type": "code",
   "execution_count": 3,
   "id": "a8602032",
   "metadata": {},
   "outputs": [
    {
     "name": "stdout",
     "output_type": "stream",
     "text": [
      "30\n",
      "30\n",
      "30\n",
      "30\n",
      "30\n",
      "30\n",
      "30\n",
      "30\n"
     ]
    }
   ],
   "source": [
    "# function call\n",
    "add()\n",
    "add()\n",
    "add()\n",
    "add()\n",
    "add()\n",
    "add()\n",
    "add()\n",
    "add()\n",
    "\n"
   ]
  },
  {
   "cell_type": "code",
   "execution_count": 4,
   "id": "a29b8860",
   "metadata": {},
   "outputs": [],
   "source": [
    "def add2(a,b):\n",
    "    print(a+b)\n"
   ]
  },
  {
   "cell_type": "code",
   "execution_count": 5,
   "id": "93306ca9",
   "metadata": {},
   "outputs": [
    {
     "ename": "TypeError",
     "evalue": "add2() missing 2 required positional arguments: 'a' and 'b'",
     "output_type": "error",
     "traceback": [
      "\u001b[31m---------------------------------------------------------------------------\u001b[39m",
      "\u001b[31mTypeError\u001b[39m                                 Traceback (most recent call last)",
      "\u001b[36mCell\u001b[39m\u001b[36m \u001b[39m\u001b[32mIn[5]\u001b[39m\u001b[32m, line 1\u001b[39m\n\u001b[32m----> \u001b[39m\u001b[32m1\u001b[39m \u001b[43madd2\u001b[49m\u001b[43m(\u001b[49m\u001b[43m)\u001b[49m\n",
      "\u001b[31mTypeError\u001b[39m: add2() missing 2 required positional arguments: 'a' and 'b'"
     ]
    }
   ],
   "source": [
    "add2()"
   ]
  },
  {
   "cell_type": "code",
   "execution_count": 8,
   "id": "3c9b3678",
   "metadata": {},
   "outputs": [
    {
     "name": "stdout",
     "output_type": "stream",
     "text": [
      "38\n",
      "254\n"
     ]
    }
   ],
   "source": [
    "add2(10,28)\n",
    "add2(10,244)"
   ]
  },
  {
   "cell_type": "code",
   "execution_count": 13,
   "id": "d07b65c6",
   "metadata": {},
   "outputs": [],
   "source": [
    "def printmsg(name,msg = \"hello\"):\n",
    "    print(f'{msg} {name} is mad')"
   ]
  },
  {
   "cell_type": "code",
   "execution_count": 14,
   "id": "086cb6bf",
   "metadata": {},
   "outputs": [
    {
     "name": "stdout",
     "output_type": "stream",
     "text": [
      "hello Harshit is mad\n",
      "hello Yash is mad\n"
     ]
    }
   ],
   "source": [
    "printmsg('Harshit')\n",
    "printmsg('Yash')"
   ]
  },
  {
   "cell_type": "code",
   "execution_count": 15,
   "id": "d6a7809d",
   "metadata": {},
   "outputs": [
    {
     "ename": "TypeError",
     "evalue": "printmsg() missing 1 required positional argument: 'name'",
     "output_type": "error",
     "traceback": [
      "\u001b[31m---------------------------------------------------------------------------\u001b[39m",
      "\u001b[31mTypeError\u001b[39m                                 Traceback (most recent call last)",
      "\u001b[36mCell\u001b[39m\u001b[36m \u001b[39m\u001b[32mIn[15]\u001b[39m\u001b[32m, line 1\u001b[39m\n\u001b[32m----> \u001b[39m\u001b[32m1\u001b[39m \u001b[43mprintmsg\u001b[49m\u001b[43m(\u001b[49m\u001b[43m)\u001b[49m\n",
      "\u001b[31mTypeError\u001b[39m: printmsg() missing 1 required positional argument: 'name'"
     ]
    }
   ],
   "source": [
    "printmsg()"
   ]
  },
  {
   "cell_type": "code",
   "execution_count": 16,
   "id": "60fba261",
   "metadata": {},
   "outputs": [
    {
     "name": "stdout",
     "output_type": "stream",
     "text": [
      "hello yash is mad\n"
     ]
    }
   ],
   "source": [
    "printmsg('yash')"
   ]
  },
  {
   "cell_type": "code",
   "execution_count": null,
   "id": "b8e93259",
   "metadata": {},
   "outputs": [
    {
     "name": "stdout",
     "output_type": "stream",
     "text": [
      "hello since birth yash is mad\n"
     ]
    }
   ],
   "source": [
    "printmsg('since birth yash')\n",
    "printmsg('since birth yash')"
   ]
  },
  {
   "cell_type": "code",
   "execution_count": null,
   "id": "b1673af5",
   "metadata": {},
   "outputs": [
    {
     "name": "stdout",
     "output_type": "stream",
     "text": [
      "hello ,since birth yash is mad\n"
     ]
    }
   ],
   "source": [
    "printmsg(',since birth yash')\n"
   ]
  },
  {
   "cell_type": "code",
   "execution_count": 19,
   "id": "8743e6f6",
   "metadata": {},
   "outputs": [
    {
     "name": "stdout",
     "output_type": "stream",
     "text": [
      "a/b/1/2/3\n"
     ]
    }
   ],
   "source": [
    "print('a','b',1,2,3,sep = '/')"
   ]
  },
  {
   "cell_type": "code",
   "execution_count": 21,
   "id": "33c514eb",
   "metadata": {},
   "outputs": [],
   "source": [
    "# variable length parameter functions\n",
    "\n",
    "def addall(*number):\n",
    "    print(number)\n"
   ]
  },
  {
   "cell_type": "code",
   "execution_count": 22,
   "id": "15b369f4",
   "metadata": {},
   "outputs": [
    {
     "name": "stdout",
     "output_type": "stream",
     "text": [
      "(34, 5)\n"
     ]
    }
   ],
   "source": [
    "addall(34,5)"
   ]
  },
  {
   "cell_type": "code",
   "execution_count": 23,
   "id": "993ab932",
   "metadata": {},
   "outputs": [],
   "source": [
    "def addall(*num):\n",
    "    result = sum(num)\n",
    "    print(result)"
   ]
  },
  {
   "cell_type": "code",
   "execution_count": 25,
   "id": "3ff8b612",
   "metadata": {},
   "outputs": [
    {
     "name": "stdout",
     "output_type": "stream",
     "text": [
      "15\n"
     ]
    }
   ],
   "source": [
    "addall(1,2,3,4,5)"
   ]
  },
  {
   "cell_type": "code",
   "execution_count": 37,
   "id": "6d5a815d",
   "metadata": {},
   "outputs": [],
   "source": [
    "def getpercentage(*marks, total = 100):\n",
    "    obt = sum(marks)\n",
    "    per = obt *100 / (len(marks)*total)\n",
    "    print(per)"
   ]
  },
  {
   "cell_type": "code",
   "execution_count": 38,
   "id": "5e5c6eb4",
   "metadata": {},
   "outputs": [
    {
     "name": "stdout",
     "output_type": "stream",
     "text": [
      "44.0\n"
     ]
    }
   ],
   "source": [
    "getpercentage(33,44,55)"
   ]
  },
  {
   "cell_type": "code",
   "execution_count": 39,
   "id": "8506d9a7",
   "metadata": {},
   "outputs": [
    {
     "name": "stdout",
     "output_type": "stream",
     "text": [
      "66.0\n"
     ]
    }
   ],
   "source": [
    "getpercentage(33,44,55,99,99)\n"
   ]
  },
  {
   "cell_type": "code",
   "execution_count": 43,
   "id": "3f8a77ca",
   "metadata": {},
   "outputs": [],
   "source": [
    "def printdetails(**data):\n",
    "    print(data)"
   ]
  },
  {
   "cell_type": "code",
   "execution_count": 44,
   "id": "f72025f0",
   "metadata": {},
   "outputs": [
    {
     "name": "stdout",
     "output_type": "stream",
     "text": [
      "{'name': 'Harshit', 'friend': 'yash'}\n"
     ]
    }
   ],
   "source": [
    "printdetails(name = 'Harshit', friend = 'yash')"
   ]
  },
  {
   "cell_type": "code",
   "execution_count": 1,
   "id": "bc375d0a",
   "metadata": {},
   "outputs": [],
   "source": [
    "def showtemp(**tempdata):\n",
    "    \n",
    "    for(day , temp) in tempdata.items():\n",
    "        print(f'temp on {day} is {temp}° C')"
   ]
  },
  {
   "cell_type": "code",
   "execution_count": 2,
   "id": "209a3e95",
   "metadata": {},
   "outputs": [
    {
     "name": "stdout",
     "output_type": "stream",
     "text": [
      "temp on monday is 30° C\n",
      "temp on tuesday is 40° C\n"
     ]
    }
   ],
   "source": [
    "showtemp(monday = 30,tuesday = 40)"
   ]
  },
  {
   "cell_type": "code",
   "execution_count": 8,
   "id": "51e23eef",
   "metadata": {},
   "outputs": [],
   "source": [
    "def add3(a,b):\n",
    "    return a+b"
   ]
  },
  {
   "cell_type": "code",
   "execution_count": 9,
   "id": "ba6f81a1",
   "metadata": {},
   "outputs": [
    {
     "data": {
      "text/plain": [
       "5"
      ]
     },
     "execution_count": 9,
     "metadata": {},
     "output_type": "execute_result"
    }
   ],
   "source": [
    "add3(2,3)"
   ]
  },
  {
   "cell_type": "code",
   "execution_count": 10,
   "id": "703e9604",
   "metadata": {},
   "outputs": [],
   "source": [
    "result = add3(2,3)"
   ]
  },
  {
   "cell_type": "code",
   "execution_count": 12,
   "id": "d5e32da2",
   "metadata": {},
   "outputs": [
    {
     "data": {
      "text/plain": [
       "5"
      ]
     },
     "execution_count": 12,
     "metadata": {},
     "output_type": "execute_result"
    }
   ],
   "source": [
    "result"
   ]
  },
  {
   "cell_type": "code",
   "execution_count": 13,
   "id": "711ce964",
   "metadata": {},
   "outputs": [],
   "source": [
    "def gennum(n):\n",
    "    for i in range(1,n+1):\n",
    "        yield i "
   ]
  },
  {
   "cell_type": "code",
   "execution_count": 16,
   "id": "286af740",
   "metadata": {},
   "outputs": [
    {
     "name": "stdout",
     "output_type": "stream",
     "text": [
      "1\n",
      "2\n",
      "3\n",
      "4\n",
      "5\n",
      "6\n",
      "7\n",
      "8\n",
      "9\n",
      "10\n",
      "11\n",
      "12\n",
      "13\n",
      "14\n",
      "15\n",
      "16\n",
      "17\n",
      "18\n",
      "19\n",
      "20\n"
     ]
    }
   ],
   "source": [
    "for i in gennum(20):\n",
    "    print(i)"
   ]
  },
  {
   "cell_type": "code",
   "execution_count": 17,
   "id": "84bae46c",
   "metadata": {},
   "outputs": [],
   "source": [
    "gen = gennum(20)"
   ]
  },
  {
   "cell_type": "code",
   "execution_count": 19,
   "id": "95498463",
   "metadata": {},
   "outputs": [],
   "source": [
    "for i in gen:\n",
    "    print(i)"
   ]
  },
  {
   "cell_type": "code",
   "execution_count": null,
   "id": "fcc4aa5b",
   "metadata": {},
   "outputs": [],
   "source": []
  }
 ],
 "metadata": {
  "kernelspec": {
   "display_name": "base",
   "language": "python",
   "name": "python3"
  },
  "language_info": {
   "codemirror_mode": {
    "name": "ipython",
    "version": 3
   },
   "file_extension": ".py",
   "mimetype": "text/x-python",
   "name": "python",
   "nbconvert_exporter": "python",
   "pygments_lexer": "ipython3",
   "version": "3.13.5"
  }
 },
 "nbformat": 4,
 "nbformat_minor": 5
}
