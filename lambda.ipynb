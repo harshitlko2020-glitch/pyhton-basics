{
 "cells": [
  {
   "cell_type": "code",
   "execution_count": 1,
   "id": "66f894b6",
   "metadata": {},
   "outputs": [],
   "source": [
    "adder = lambda a : a+1"
   ]
  },
  {
   "cell_type": "code",
   "execution_count": 3,
   "id": "26d22ac0",
   "metadata": {},
   "outputs": [
    {
     "data": {
      "text/plain": [
       "21"
      ]
     },
     "execution_count": 3,
     "metadata": {},
     "output_type": "execute_result"
    }
   ],
   "source": [
    "adder(20)"
   ]
  },
  {
   "cell_type": "code",
   "execution_count": 5,
   "id": "14256053",
   "metadata": {},
   "outputs": [
    {
     "data": {
      "text/plain": [
       "40"
      ]
     },
     "execution_count": 5,
     "metadata": {},
     "output_type": "execute_result"
    }
   ],
   "source": [
    "adder2 = lambda a,b :a+b\n",
    "adder2(20,20)"
   ]
  },
  {
   "cell_type": "code",
   "execution_count": 8,
   "id": "7453e35c",
   "metadata": {},
   "outputs": [],
   "source": [
    "rupees = ['₹64.456','₹33.987','₹55.987','₹36.987']\n",
    "# [64,33,55,36]"
   ]
  },
  {
   "cell_type": "code",
   "execution_count": 17,
   "id": "dcc7cd07",
   "metadata": {},
   "outputs": [
    {
     "data": {
      "text/plain": [
       "[64, 33, 55, 36]"
      ]
     },
     "execution_count": 17,
     "metadata": {},
     "output_type": "execute_result"
    }
   ],
   "source": [
    "[int(i[1:].split('.')[0])for i in rupees]"
   ]
  },
  {
   "cell_type": "code",
   "execution_count": 11,
   "id": "9c38f647",
   "metadata": {},
   "outputs": [],
   "source": [
    "strnums = ['33','44','55','66']\n",
    "output = map(lambda s : int(s),strnums)\n",
    "\n"
   ]
  },
  {
   "cell_type": "code",
   "execution_count": 12,
   "id": "c479377a",
   "metadata": {},
   "outputs": [
    {
     "data": {
      "text/plain": [
       "<map at 0x17e9296ee30>"
      ]
     },
     "execution_count": 12,
     "metadata": {},
     "output_type": "execute_result"
    }
   ],
   "source": [
    "output"
   ]
  },
  {
   "cell_type": "code",
   "execution_count": 13,
   "id": "c0b808d9",
   "metadata": {},
   "outputs": [
    {
     "data": {
      "text/plain": [
       "[33, 44, 55, 66]"
      ]
     },
     "execution_count": 13,
     "metadata": {},
     "output_type": "execute_result"
    }
   ],
   "source": [
    "list(output)"
   ]
  },
  {
   "cell_type": "code",
   "execution_count": 18,
   "id": "4ef7bacf",
   "metadata": {},
   "outputs": [],
   "source": [
    "prices = [2000,2900,1300,5677,8898]\n"
   ]
  },
  {
   "cell_type": "code",
   "execution_count": 19,
   "id": "5739474e",
   "metadata": {},
   "outputs": [],
   "source": [
    "new_price = filter(lambda p : p>2000 and p<5000 , prices)"
   ]
  },
  {
   "cell_type": "code",
   "execution_count": 20,
   "id": "90c6303f",
   "metadata": {},
   "outputs": [
    {
     "data": {
      "text/plain": [
       "[2900]"
      ]
     },
     "execution_count": 20,
     "metadata": {},
     "output_type": "execute_result"
    }
   ],
   "source": [
    "list(new_price)"
   ]
  },
  {
   "cell_type": "code",
   "execution_count": 21,
   "id": "09861cbe",
   "metadata": {},
   "outputs": [
    {
     "data": {
      "text/plain": [
       "[False, True, False, False, False]"
      ]
     },
     "execution_count": 21,
     "metadata": {},
     "output_type": "execute_result"
    }
   ],
   "source": [
    "new_price = map(lambda p : p>2000 and p<5000 , prices)\n",
    "list(new_price)"
   ]
  },
  {
   "cell_type": "code",
   "execution_count": null,
   "id": "4afa6ed6",
   "metadata": {},
   "outputs": [],
   "source": []
  }
 ],
 "metadata": {
  "kernelspec": {
   "display_name": "base",
   "language": "python",
   "name": "python3"
  },
  "language_info": {
   "codemirror_mode": {
    "name": "ipython",
    "version": 3
   },
   "file_extension": ".py",
   "mimetype": "text/x-python",
   "name": "python",
   "nbconvert_exporter": "python",
   "pygments_lexer": "ipython3",
   "version": "3.13.5"
  }
 },
 "nbformat": 4,
 "nbformat_minor": 5
}
