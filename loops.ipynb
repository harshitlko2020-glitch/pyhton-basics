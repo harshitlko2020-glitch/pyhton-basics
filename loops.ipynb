{
 "cells": [
  {
   "cell_type": "code",
   "execution_count": 1,
   "id": "7ac23c36",
   "metadata": {},
   "outputs": [],
   "source": [
    "# for \n",
    "# while\n",
    "# for else"
   ]
  },
  {
   "cell_type": "markdown",
   "id": "b61229af",
   "metadata": {},
   "source": [
    "# for loop"
   ]
  },
  {
   "cell_type": "code",
   "execution_count": 4,
   "id": "ae0a19f7",
   "metadata": {},
   "outputs": [
    {
     "name": "stdout",
     "output_type": "stream",
     "text": [
      "1\n",
      "2\n",
      "3\n",
      "4\n",
      "5\n",
      "6\n",
      "7\n",
      "8\n",
      "9\n",
      "10\n"
     ]
    }
   ],
   "source": [
    "for i in range(10):\n",
    "    print(i+1)"
   ]
  },
  {
   "cell_type": "code",
   "execution_count": 5,
   "id": "044f5cdc",
   "metadata": {},
   "outputs": [
    {
     "name": "stdout",
     "output_type": "stream",
     "text": [
      "3\n",
      "4\n",
      "5\n",
      "6\n",
      "7\n",
      "8\n",
      "9\n",
      "10\n"
     ]
    }
   ],
   "source": [
    "for i in range(3,11):\n",
    "    print(i)\n"
   ]
  },
  {
   "cell_type": "code",
   "execution_count": 6,
   "id": "1987a1d4",
   "metadata": {},
   "outputs": [
    {
     "name": "stdout",
     "output_type": "stream",
     "text": [
      "2\n",
      "4\n",
      "6\n",
      "8\n",
      "10\n",
      "12\n",
      "14\n",
      "16\n",
      "18\n"
     ]
    }
   ],
   "source": [
    "for i in range(2,20,2):\n",
    "    print(i)\n"
   ]
  },
  {
   "cell_type": "code",
   "execution_count": 10,
   "id": "498cc84d",
   "metadata": {},
   "outputs": [
    {
     "name": "stdout",
     "output_type": "stream",
     "text": [
      "20\n",
      "19\n",
      "18\n",
      "17\n",
      "16\n",
      "15\n",
      "14\n",
      "13\n",
      "12\n",
      "11\n",
      "10\n",
      "9\n",
      "8\n",
      "7\n",
      "6\n",
      "5\n",
      "4\n",
      "3\n",
      "2\n",
      "1\n"
     ]
    }
   ],
   "source": [
    "for i in range(20,0,-1):\n",
    "    print(i)\n"
   ]
  },
  {
   "cell_type": "code",
   "execution_count": 11,
   "id": "bdf1d3be",
   "metadata": {},
   "outputs": [
    {
     "name": "stdout",
     "output_type": "stream",
     "text": [
      "H\n",
      "a\n",
      "r\n",
      "s\n",
      "h\n",
      "i\n",
      "t\n"
     ]
    }
   ],
   "source": [
    "for i in 'Harshit':\n",
    "    print(i)"
   ]
  },
  {
   "cell_type": "code",
   "execution_count": 12,
   "id": "d1029052",
   "metadata": {},
   "outputs": [
    {
     "name": "stdout",
     "output_type": "stream",
     "text": [
      "H a r s h i t "
     ]
    }
   ],
   "source": [
    "\n",
    "for i in 'Harshit':\n",
    "    print(i , end = ' ')\n"
   ]
  },
  {
   "cell_type": "code",
   "execution_count": 13,
   "id": "dfe1dba9",
   "metadata": {},
   "outputs": [
    {
     "name": "stdout",
     "output_type": "stream",
     "text": [
      "2-3-4-5\n"
     ]
    }
   ],
   "source": [
    "print(2,3,4,5 , sep = '-')\n"
   ]
  },
  {
   "cell_type": "code",
   "execution_count": 2,
   "id": "5ca08097",
   "metadata": {},
   "outputs": [
    {
     "name": "stdout",
     "output_type": "stream",
     "text": [
      " * \n",
      " *  * \n",
      " *  *  * \n",
      " *  *  *  * \n",
      " *  *  *  *  * \n",
      " *  *  *  *  *  * \n",
      " *  *  *  *  *  *  * \n",
      " *  *  *  *  *  *  *  * \n",
      " *  *  *  *  *  *  *  *  * \n"
     ]
    }
   ],
   "source": [
    "for i in range(1,10):\n",
    "    print(i * ' * ')"
   ]
  },
  {
   "cell_type": "code",
   "execution_count": 18,
   "id": "6f1bb423",
   "metadata": {},
   "outputs": [
    {
     "name": "stdout",
     "output_type": "stream",
     "text": [
      "         *\n",
      "        **\n",
      "       ***\n",
      "      ****\n",
      "     *****\n",
      "    ******\n",
      "   *******\n",
      "  ********\n",
      " *********\n"
     ]
    }
   ],
   "source": [
    "for i in range(1,10):\n",
    "    print((i * '*').rjust(10))"
   ]
  },
  {
   "cell_type": "code",
   "execution_count": 19,
   "id": "ca0e0cb1",
   "metadata": {},
   "outputs": [
    {
     "name": "stdout",
     "output_type": "stream",
     "text": [
      "*         \n",
      "**        \n",
      "***       \n",
      "****      \n",
      "*****     \n",
      "******    \n",
      "*******   \n",
      "********  \n",
      "********* \n"
     ]
    }
   ],
   "source": [
    "for i in range(1,10):\n",
    "    print((i * '*').ljust(10))"
   ]
  },
  {
   "cell_type": "code",
   "execution_count": 26,
   "id": "cf74b6c3",
   "metadata": {},
   "outputs": [
    {
     "name": "stdout",
     "output_type": "stream",
     "text": [
      "         *          \n",
      "        ***         \n",
      "       *****        \n",
      "      *******       \n",
      "     *********      \n"
     ]
    }
   ],
   "source": [
    "for i in range(1,10,2):\n",
    "    print((i * '*').center(20))"
   ]
  },
  {
   "cell_type": "code",
   "execution_count": 36,
   "id": "5bf75e8b",
   "metadata": {},
   "outputs": [
    {
     "name": "stdout",
     "output_type": "stream",
     "text": [
      "               *              \n",
      "             * * *            \n",
      "           * * * * *          \n",
      "         * * * * * * *        \n",
      "       * * * * * * * * *      \n",
      "     * * * * * * * * * * *    \n",
      "       * * * * * * * * *      \n",
      "         * * * * * * *        \n",
      "           * * * * *          \n",
      "             * * *            \n",
      "               *              \n"
     ]
    }
   ],
   "source": [
    "for i in range(1,10,2):\n",
    "    print((i * ' *').center(30))\n",
    "\n",
    "for j in range(11 ,0,-2):\n",
    "    print((j * ' *').center(30))"
   ]
  },
  {
   "cell_type": "code",
   "execution_count": 43,
   "id": "20b2f0ea",
   "metadata": {},
   "outputs": [
    {
     "name": "stdout",
     "output_type": "stream",
     "text": [
      "@*@*@*@*@*@*@*@*@*@*\n",
      "@*@*@*@*@*@*@*@*@*  \n",
      "@*@*@*@*@*@*@*@*    \n",
      "@*@*@*@*@*@*@*      \n",
      "@*@*@*@*@*@*        \n",
      "@*@*@*@*@*          \n",
      "@*@*@*@*            \n",
      "@*@*@*              \n",
      "@*@*                \n",
      "@*                  \n"
     ]
    }
   ],
   "source": [
    "for i in range(10,0,-1):\n",
    "    print((i * '@*').ljust(20))"
   ]
  },
  {
   "cell_type": "code",
   "execution_count": 47,
   "id": "b63dc5ca",
   "metadata": {},
   "outputs": [
    {
     "name": "stdout",
     "output_type": "stream",
     "text": [
      "@@@@@@@@@@@@@@ *@@@@@@@@@@@@@@\n",
      "@@@@@@@@@@@@ * * *@@@@@@@@@@@@\n",
      "@@@@@@@@@@ * * * * *@@@@@@@@@@\n",
      "@@@@@@@@ * * * * * * *@@@@@@@@\n",
      "@@@@@@ * * * * * * * * *@@@@@@\n",
      "@@@@ * * * * * * * * * * *@@@@\n",
      "@@@@@@ * * * * * * * * *@@@@@@\n",
      "@@@@@@@@ * * * * * * *@@@@@@@@\n",
      "@@@@@@@@@@ * * * * *@@@@@@@@@@\n",
      "@@@@@@@@@@@@ * * *@@@@@@@@@@@@\n",
      "@@@@@@@@@@@@@@ *@@@@@@@@@@@@@@\n"
     ]
    }
   ],
   "source": [
    "for i in range(1,10,2):\n",
    "    print((i * ' *').center(30,'@'))\n",
    "\n",
    "for j in range(11 ,0,-2):\n",
    "    print((j * ' *').center(30,'@'))"
   ]
  },
  {
   "cell_type": "code",
   "execution_count": 54,
   "id": "92c80863",
   "metadata": {},
   "outputs": [
    {
     "name": "stdout",
     "output_type": "stream",
     "text": [
      "**********##########\n",
      "*********###########\n",
      "********############\n",
      "*******#############\n",
      "******##############\n",
      "*****###############\n",
      "****################\n",
      "***#################\n",
      "**##################\n",
      "*###################\n"
     ]
    }
   ],
   "source": [
    "for i in range(10,0,-1):\n",
    "    print((i * '*').ljust(20,'#'))"
   ]
  },
  {
   "cell_type": "markdown",
   "id": "451eae76",
   "metadata": {},
   "source": [
    "# while loop"
   ]
  },
  {
   "cell_type": "code",
   "execution_count": 56,
   "id": "514e1962",
   "metadata": {},
   "outputs": [
    {
     "name": "stdout",
     "output_type": "stream",
     "text": [
      "10\n",
      "11\n",
      "12\n",
      "13\n",
      "14\n",
      "15\n",
      "16\n",
      "17\n",
      "18\n",
      "19\n",
      "20\n"
     ]
    }
   ],
   "source": [
    "a = 10\n",
    "while a <=20:\n",
    "    print(a)\n",
    "    a +=1"
   ]
  },
  {
   "cell_type": "code",
   "execution_count": 58,
   "id": "fd721883",
   "metadata": {},
   "outputs": [
    {
     "name": "stdout",
     "output_type": "stream",
     "text": [
      "reversed number is  5432\n"
     ]
    }
   ],
   "source": [
    "num = int(input('enter a number'))\n",
    "\n",
    "rev = 0\n",
    "while num >0:\n",
    "    digit = num%10\n",
    "    rev = rev *10 + digit\n",
    "    num = num//10\n",
    "\n",
    "print('reversed number is ',rev)"
   ]
  },
  {
   "cell_type": "code",
   "execution_count": 59,
   "id": "3f905151",
   "metadata": {},
   "outputs": [],
   "source": [
    "# wap to check if a number is palindrome or not"
   ]
  },
  {
   "cell_type": "code",
   "execution_count": 69,
   "id": "496344ea",
   "metadata": {},
   "outputs": [
    {
     "name": "stdout",
     "output_type": "stream",
     "text": [
      "palindrome\n"
     ]
    }
   ],
   "source": [
    "num = int(input('enter a number'))\n",
    "n = num\n",
    "rev = 0\n",
    "while num >0:\n",
    "    digit = num%10\n",
    "    rev = rev *10 + digit\n",
    "    num = num//10\n",
    "    \n",
    "if (n == rev):\n",
    "    print('palindrome')\n",
    "else:\n",
    "    print('not palindrome')"
   ]
  },
  {
   "cell_type": "code",
   "execution_count": 70,
   "id": "c6060b4c",
   "metadata": {},
   "outputs": [],
   "source": [
    "# wap to check if a number is prime"
   ]
  },
  {
   "cell_type": "code",
   "execution_count": 24,
   "id": "1a2e9b7b",
   "metadata": {},
   "outputs": [
    {
     "name": "stdout",
     "output_type": "stream",
     "text": [
      "not prime\n"
     ]
    }
   ],
   "source": [
    "num1 = int(input('enter the number'))\n",
    "\n",
    "for i in range(2,int(num1**0.5) + 1):\n",
    "    if num1 % i == 0:\n",
    "        print('not prime')\n",
    "    else:\n",
    "        break\n",
    "    \n",
    "else:\n",
    "    print('prime')\n",
    "\n",
    "    "
   ]
  },
  {
   "cell_type": "code",
   "execution_count": null,
   "id": "0817cb75",
   "metadata": {},
   "outputs": [],
   "source": []
  },
  {
   "cell_type": "code",
   "execution_count": null,
   "id": "f32f2b0e",
   "metadata": {},
   "outputs": [],
   "source": []
  }
 ],
 "metadata": {
  "kernelspec": {
   "display_name": "base",
   "language": "python",
   "name": "python3"
  },
  "language_info": {
   "codemirror_mode": {
    "name": "ipython",
    "version": 3
   },
   "file_extension": ".py",
   "mimetype": "text/x-python",
   "name": "python",
   "nbconvert_exporter": "python",
   "pygments_lexer": "ipython3",
   "version": "3.13.5"
  }
 },
 "nbformat": 4,
 "nbformat_minor": 5
}
