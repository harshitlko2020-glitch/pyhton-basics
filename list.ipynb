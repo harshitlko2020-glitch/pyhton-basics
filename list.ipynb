{
 "cells": [
  {
   "cell_type": "code",
   "execution_count": 5,
   "id": "f458d341",
   "metadata": {},
   "outputs": [],
   "source": [
    "mylist = [1, 'hello',True,45.3,None,print]"
   ]
  },
  {
   "cell_type": "code",
   "execution_count": 6,
   "id": "524ea444",
   "metadata": {},
   "outputs": [
    {
     "data": {
      "text/plain": [
       "list"
      ]
     },
     "execution_count": 6,
     "metadata": {},
     "output_type": "execute_result"
    }
   ],
   "source": [
    "type(mylist)"
   ]
  },
  {
   "cell_type": "code",
   "execution_count": 7,
   "id": "8bc43b96",
   "metadata": {},
   "outputs": [
    {
     "data": {
      "text/plain": [
       "[1,\n",
       " 'hello',\n",
       " True,\n",
       " 45.3,\n",
       " None,\n",
       " <function print(*args, sep=' ', end='\\n', file=None, flush=False)>]"
      ]
     },
     "execution_count": 7,
     "metadata": {},
     "output_type": "execute_result"
    }
   ],
   "source": [
    "mylist"
   ]
  },
  {
   "cell_type": "code",
   "execution_count": 8,
   "id": "9c3209e7",
   "metadata": {},
   "outputs": [
    {
     "data": {
      "text/plain": [
       "1"
      ]
     },
     "execution_count": 8,
     "metadata": {},
     "output_type": "execute_result"
    }
   ],
   "source": [
    "mylist[0]"
   ]
  },
  {
   "cell_type": "code",
   "execution_count": 9,
   "id": "b6d051ce",
   "metadata": {},
   "outputs": [
    {
     "data": {
      "text/plain": [
       "'hello'"
      ]
     },
     "execution_count": 9,
     "metadata": {},
     "output_type": "execute_result"
    }
   ],
   "source": [
    "mylist[1]"
   ]
  },
  {
   "cell_type": "code",
   "execution_count": 12,
   "id": "549d020b",
   "metadata": {},
   "outputs": [],
   "source": [
    "movies = ['jai ho',['stree','mannn'],'it','kyonki','koyla']"
   ]
  },
  {
   "cell_type": "code",
   "execution_count": 13,
   "id": "15c58868",
   "metadata": {},
   "outputs": [
    {
     "data": {
      "text/plain": [
       "5"
      ]
     },
     "execution_count": 13,
     "metadata": {},
     "output_type": "execute_result"
    }
   ],
   "source": [
    "len(movies)"
   ]
  },
  {
   "cell_type": "code",
   "execution_count": 18,
   "id": "13836860",
   "metadata": {},
   "outputs": [
    {
     "data": {
      "text/plain": [
       "['stree', 'mannn']"
      ]
     },
     "execution_count": 18,
     "metadata": {},
     "output_type": "execute_result"
    }
   ],
   "source": [
    "movies[1]"
   ]
  },
  {
   "cell_type": "code",
   "execution_count": 19,
   "id": "8ad4264c",
   "metadata": {},
   "outputs": [],
   "source": [
    "movies.append('sholay')"
   ]
  },
  {
   "cell_type": "code",
   "execution_count": 20,
   "id": "1b3d20f6",
   "metadata": {},
   "outputs": [
    {
     "data": {
      "text/plain": [
       "['jai ho', ['stree', 'mannn'], 'it', 'kyonki', 'koyla', 'sholay']"
      ]
     },
     "execution_count": 20,
     "metadata": {},
     "output_type": "execute_result"
    }
   ],
   "source": [
    "movies"
   ]
  },
  {
   "cell_type": "code",
   "execution_count": 22,
   "id": "d4c8dd45",
   "metadata": {},
   "outputs": [
    {
     "data": {
      "text/plain": [
       "'a'"
      ]
     },
     "execution_count": 22,
     "metadata": {},
     "output_type": "execute_result"
    }
   ],
   "source": [
    "movies[0][1]"
   ]
  },
  {
   "cell_type": "code",
   "execution_count": 26,
   "id": "204585da",
   "metadata": {},
   "outputs": [
    {
     "data": {
      "text/plain": [
       "'streetwo'"
      ]
     },
     "execution_count": 26,
     "metadata": {},
     "output_type": "execute_result"
    }
   ],
   "source": [
    "movies[1][0] + 'two'"
   ]
  },
  {
   "cell_type": "code",
   "execution_count": 27,
   "id": "4fbfc1cd",
   "metadata": {},
   "outputs": [
    {
     "data": {
      "text/plain": [
       "['it', 'kyonki', 'koyla', 'sholay']"
      ]
     },
     "execution_count": 27,
     "metadata": {},
     "output_type": "execute_result"
    }
   ],
   "source": [
    "movies[2:6]"
   ]
  },
  {
   "cell_type": "code",
   "execution_count": 33,
   "id": "9fe748fb",
   "metadata": {},
   "outputs": [],
   "source": [
    "# creating an empty list\n",
    "empty = list()"
   ]
  },
  {
   "cell_type": "code",
   "execution_count": 30,
   "id": "d468e99a",
   "metadata": {},
   "outputs": [],
   "source": [
    "empty1 = []"
   ]
  },
  {
   "cell_type": "code",
   "execution_count": 31,
   "id": "7293908d",
   "metadata": {},
   "outputs": [
    {
     "data": {
      "text/plain": [
       "[]"
      ]
     },
     "execution_count": 31,
     "metadata": {},
     "output_type": "execute_result"
    }
   ],
   "source": [
    "empty"
   ]
  },
  {
   "cell_type": "code",
   "execution_count": 38,
   "id": "75161c4e",
   "metadata": {},
   "outputs": [],
   "source": [
    "movies.insert(1,'kgf')"
   ]
  },
  {
   "cell_type": "code",
   "execution_count": 39,
   "id": "7e29cb5a",
   "metadata": {},
   "outputs": [
    {
     "data": {
      "text/plain": [
       "['jai ho', 'kgf', ['stree', 'mannn'], 'it', 'kyonki', 'koyla', 'sholay']"
      ]
     },
     "execution_count": 39,
     "metadata": {},
     "output_type": "execute_result"
    }
   ],
   "source": [
    "movies"
   ]
  },
  {
   "cell_type": "code",
   "execution_count": 41,
   "id": "9a684578",
   "metadata": {},
   "outputs": [
    {
     "data": {
      "text/plain": [
       "['jai ho', ['stree', 'mannn'], 'kyonki']"
      ]
     },
     "execution_count": 41,
     "metadata": {},
     "output_type": "execute_result"
    }
   ],
   "source": [
    "movies[0:5:2]"
   ]
  },
  {
   "cell_type": "code",
   "execution_count": 42,
   "id": "83137e3d",
   "metadata": {},
   "outputs": [
    {
     "data": {
      "text/plain": [
       "['sholay', 'koyla', 'kyonki', 'it', ['stree', 'mannn'], 'kgf', 'jai ho']"
      ]
     },
     "execution_count": 42,
     "metadata": {},
     "output_type": "execute_result"
    }
   ],
   "source": [
    "movies[::-1]"
   ]
  },
  {
   "cell_type": "code",
   "execution_count": 44,
   "id": "dffcc821",
   "metadata": {},
   "outputs": [
    {
     "data": {
      "text/plain": [
       "['jai ho', 'kgf', ['stree', 'mannn'], 'it', 'kyonki', 'koyla', 'sholay']"
      ]
     },
     "execution_count": 44,
     "metadata": {},
     "output_type": "execute_result"
    }
   ],
   "source": [
    "movies"
   ]
  },
  {
   "cell_type": "code",
   "execution_count": 52,
   "id": "393429cb",
   "metadata": {},
   "outputs": [],
   "source": [
    "nums = [1,2,3]\n",
    "nums.extend([4,5,6,2])"
   ]
  },
  {
   "cell_type": "code",
   "execution_count": 53,
   "id": "8c499eb5",
   "metadata": {},
   "outputs": [
    {
     "data": {
      "text/plain": [
       "[1, 2, 3, 4, 5, 6, 2]"
      ]
     },
     "execution_count": 53,
     "metadata": {},
     "output_type": "execute_result"
    }
   ],
   "source": [
    "nums"
   ]
  },
  {
   "cell_type": "code",
   "execution_count": 54,
   "id": "24f3894b",
   "metadata": {},
   "outputs": [
    {
     "data": {
      "text/plain": [
       "1"
      ]
     },
     "execution_count": 54,
     "metadata": {},
     "output_type": "execute_result"
    }
   ],
   "source": [
    "movies.count('koyla')"
   ]
  },
  {
   "cell_type": "code",
   "execution_count": 55,
   "id": "fd3fe616",
   "metadata": {},
   "outputs": [
    {
     "data": {
      "text/plain": [
       "2"
      ]
     },
     "execution_count": 55,
     "metadata": {},
     "output_type": "execute_result"
    }
   ],
   "source": [
    "nums.count(2)\n"
   ]
  },
  {
   "cell_type": "code",
   "execution_count": 56,
   "id": "17787ed1",
   "metadata": {},
   "outputs": [
    {
     "data": {
      "text/plain": [
       "6"
      ]
     },
     "execution_count": 56,
     "metadata": {},
     "output_type": "execute_result"
    }
   ],
   "source": [
    "movies.index('sholay')"
   ]
  },
  {
   "cell_type": "code",
   "execution_count": 59,
   "id": "68dd6e1f",
   "metadata": {},
   "outputs": [
    {
     "data": {
      "text/plain": [
       "'koyla'"
      ]
     },
     "execution_count": 59,
     "metadata": {},
     "output_type": "execute_result"
    }
   ],
   "source": [
    "movies.pop()"
   ]
  },
  {
   "cell_type": "code",
   "execution_count": 61,
   "id": "893d296d",
   "metadata": {},
   "outputs": [],
   "source": [
    "movies.remove('kgf')"
   ]
  },
  {
   "cell_type": "code",
   "execution_count": 62,
   "id": "9b1dbd65",
   "metadata": {},
   "outputs": [
    {
     "data": {
      "text/plain": [
       "['jai ho', ['stree', 'mannn'], 'it', 'kyonki']"
      ]
     },
     "execution_count": 62,
     "metadata": {},
     "output_type": "execute_result"
    }
   ],
   "source": [
    "movies"
   ]
  },
  {
   "cell_type": "code",
   "execution_count": 63,
   "id": "9540eafe",
   "metadata": {},
   "outputs": [],
   "source": [
    "movies.reverse()"
   ]
  },
  {
   "cell_type": "code",
   "execution_count": 64,
   "id": "08d1bf05",
   "metadata": {},
   "outputs": [
    {
     "data": {
      "text/plain": [
       "['kyonki', 'it', ['stree', 'mannn'], 'jai ho']"
      ]
     },
     "execution_count": 64,
     "metadata": {},
     "output_type": "execute_result"
    }
   ],
   "source": [
    "movies"
   ]
  },
  {
   "cell_type": "code",
   "execution_count": 67,
   "id": "3c6178fc",
   "metadata": {},
   "outputs": [
    {
     "ename": "TypeError",
     "evalue": "'<' not supported between instances of 'list' and 'str'",
     "output_type": "error",
     "traceback": [
      "\u001b[31m---------------------------------------------------------------------------\u001b[39m",
      "\u001b[31mTypeError\u001b[39m                                 Traceback (most recent call last)",
      "\u001b[36mCell\u001b[39m\u001b[36m \u001b[39m\u001b[32mIn[67]\u001b[39m\u001b[32m, line 1\u001b[39m\n\u001b[32m----> \u001b[39m\u001b[32m1\u001b[39m \u001b[43mmovies\u001b[49m\u001b[43m.\u001b[49m\u001b[43msort\u001b[49m\u001b[43m(\u001b[49m\u001b[43m)\u001b[49m\n",
      "\u001b[31mTypeError\u001b[39m: '<' not supported between instances of 'list' and 'str'"
     ]
    }
   ],
   "source": [
    "movies.sort()"
   ]
  },
  {
   "cell_type": "code",
   "execution_count": 68,
   "id": "6d4023c6",
   "metadata": {},
   "outputs": [
    {
     "data": {
      "text/plain": [
       "['kyonki', 'it', ['stree', 'mannn'], 'jai ho']"
      ]
     },
     "execution_count": 68,
     "metadata": {},
     "output_type": "execute_result"
    }
   ],
   "source": [
    "movies.copy()"
   ]
  },
  {
   "cell_type": "code",
   "execution_count": 72,
   "id": "4ce39914",
   "metadata": {},
   "outputs": [],
   "source": [
    "A = [1,2,3]\n",
    "b = A.copy()"
   ]
  },
  {
   "cell_type": "code",
   "execution_count": 74,
   "id": "7217dc7d",
   "metadata": {},
   "outputs": [],
   "source": [
    "b.append(33)"
   ]
  },
  {
   "cell_type": "code",
   "execution_count": 75,
   "id": "84469572",
   "metadata": {},
   "outputs": [
    {
     "data": {
      "text/plain": [
       "[1, 2, 3, 33]"
      ]
     },
     "execution_count": 75,
     "metadata": {},
     "output_type": "execute_result"
    }
   ],
   "source": [
    "b"
   ]
  },
  {
   "cell_type": "code",
   "execution_count": 76,
   "id": "c792e54b",
   "metadata": {},
   "outputs": [
    {
     "data": {
      "text/plain": [
       "[1, 2, 3]"
      ]
     },
     "execution_count": 76,
     "metadata": {},
     "output_type": "execute_result"
    }
   ],
   "source": [
    "A"
   ]
  },
  {
   "cell_type": "code",
   "execution_count": 78,
   "id": "d736bdb5",
   "metadata": {},
   "outputs": [],
   "source": [
    "movies.remove(['stree','mannn'])"
   ]
  },
  {
   "cell_type": "code",
   "execution_count": 79,
   "id": "e89915db",
   "metadata": {},
   "outputs": [
    {
     "data": {
      "text/plain": [
       "['kyonki', 'it', 'jai ho']"
      ]
     },
     "execution_count": 79,
     "metadata": {},
     "output_type": "execute_result"
    }
   ],
   "source": [
    "movies"
   ]
  },
  {
   "cell_type": "code",
   "execution_count": 80,
   "id": "65b0021f",
   "metadata": {},
   "outputs": [],
   "source": [
    "#  list traversal"
   ]
  },
  {
   "cell_type": "code",
   "execution_count": 81,
   "id": "83975779",
   "metadata": {},
   "outputs": [],
   "source": [
    "fruits = ['apple','pear','kiwi','litchi','guava']"
   ]
  },
  {
   "cell_type": "code",
   "execution_count": 82,
   "id": "dea51789",
   "metadata": {},
   "outputs": [
    {
     "name": "stdout",
     "output_type": "stream",
     "text": [
      "apple\n",
      "pear\n",
      "kiwi\n",
      "litchi\n",
      "guava\n"
     ]
    }
   ],
   "source": [
    "for i in fruits:\n",
    "    print(i)"
   ]
  },
  {
   "cell_type": "code",
   "execution_count": 85,
   "id": "519e0d46",
   "metadata": {},
   "outputs": [],
   "source": [
    "nums = [2,3,4,5,6]"
   ]
  },
  {
   "cell_type": "code",
   "execution_count": 86,
   "id": "56265dcf",
   "metadata": {},
   "outputs": [
    {
     "name": "stdout",
     "output_type": "stream",
     "text": [
      "4\n",
      "6\n",
      "8\n",
      "10\n",
      "12\n"
     ]
    }
   ],
   "source": [
    "for i in nums:\n",
    "    print(i*2)"
   ]
  },
  {
   "cell_type": "code",
   "execution_count": 87,
   "id": "052149eb",
   "metadata": {},
   "outputs": [
    {
     "name": "stdout",
     "output_type": "stream",
     "text": [
      "2\n",
      "4\n",
      "6\n"
     ]
    }
   ],
   "source": [
    "for i in nums:\n",
    "    if i%2 == 0:\n",
    "        print(i)"
   ]
  },
  {
   "cell_type": "code",
   "execution_count": 88,
   "id": "45b9e5dd",
   "metadata": {},
   "outputs": [
    {
     "name": "stdout",
     "output_type": "stream",
     "text": [
      "(0, 'apple')\n",
      "(1, 'pear')\n",
      "(2, 'kiwi')\n",
      "(3, 'litchi')\n",
      "(4, 'guava')\n"
     ]
    }
   ],
   "source": [
    "for i in enumerate(fruits):\n",
    "    print(i)"
   ]
  },
  {
   "cell_type": "code",
   "execution_count": 89,
   "id": "27d5684e",
   "metadata": {},
   "outputs": [
    {
     "name": "stdout",
     "output_type": "stream",
     "text": [
      "0 apple\n",
      "1 pear\n",
      "2 kiwi\n",
      "3 litchi\n",
      "4 guava\n"
     ]
    }
   ],
   "source": [
    "for (i,f) in enumerate(fruits):\n",
    "    print(i,f)"
   ]
  },
  {
   "cell_type": "code",
   "execution_count": 91,
   "id": "a4901ff1",
   "metadata": {},
   "outputs": [
    {
     "name": "stdout",
     "output_type": "stream",
     "text": [
      "1 pear\n",
      "3 litchi\n"
     ]
    }
   ],
   "source": [
    "# print only elements on odd indexes\n",
    "\n",
    "for (i,f) in enumerate(fruits):\n",
    "    if i%2 != 0:\n",
    "        print(i,f)"
   ]
  },
  {
   "cell_type": "code",
   "execution_count": 92,
   "id": "99f6617d",
   "metadata": {},
   "outputs": [
    {
     "data": {
      "text/plain": [
       "20"
      ]
     },
     "execution_count": 92,
     "metadata": {},
     "output_type": "execute_result"
    }
   ],
   "source": [
    "sum(nums)"
   ]
  },
  {
   "cell_type": "code",
   "execution_count": 93,
   "id": "7c7bef23",
   "metadata": {},
   "outputs": [
    {
     "data": {
      "text/plain": [
       "6"
      ]
     },
     "execution_count": 93,
     "metadata": {},
     "output_type": "execute_result"
    }
   ],
   "source": [
    "max(nums)"
   ]
  },
  {
   "cell_type": "code",
   "execution_count": 94,
   "id": "a981e9bc",
   "metadata": {},
   "outputs": [
    {
     "data": {
      "text/plain": [
       "2"
      ]
     },
     "execution_count": 94,
     "metadata": {},
     "output_type": "execute_result"
    }
   ],
   "source": [
    "min(nums)"
   ]
  },
  {
   "cell_type": "code",
   "execution_count": null,
   "id": "6875be76",
   "metadata": {},
   "outputs": [],
   "source": []
  }
 ],
 "metadata": {
  "kernelspec": {
   "display_name": "base",
   "language": "python",
   "name": "python3"
  },
  "language_info": {
   "codemirror_mode": {
    "name": "ipython",
    "version": 3
   },
   "file_extension": ".py",
   "mimetype": "text/x-python",
   "name": "python",
   "nbconvert_exporter": "python",
   "pygments_lexer": "ipython3",
   "version": "3.13.5"
  }
 },
 "nbformat": 4,
 "nbformat_minor": 5
}
