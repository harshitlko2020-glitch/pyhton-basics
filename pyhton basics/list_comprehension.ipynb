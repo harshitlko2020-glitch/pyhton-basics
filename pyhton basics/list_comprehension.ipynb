{
 "cells": [
  {
   "cell_type": "code",
   "execution_count": 1,
   "id": "f0fa19c1",
   "metadata": {},
   "outputs": [],
   "source": [
    "l1 = []\n",
    "\n",
    "for i in range(1,11):\n",
    "    l1.append(i)"
   ]
  },
  {
   "cell_type": "code",
   "execution_count": 2,
   "id": "567c51c8",
   "metadata": {},
   "outputs": [
    {
     "data": {
      "text/plain": [
       "[1, 2, 3, 4, 5, 6, 7, 8, 9, 10]"
      ]
     },
     "execution_count": 2,
     "metadata": {},
     "output_type": "execute_result"
    }
   ],
   "source": [
    "l1"
   ]
  },
  {
   "cell_type": "code",
   "execution_count": 3,
   "id": "229da20c",
   "metadata": {},
   "outputs": [
    {
     "data": {
      "text/plain": [
       "False"
      ]
     },
     "execution_count": 3,
     "metadata": {},
     "output_type": "execute_result"
    }
   ],
   "source": [
    "bool(0)"
   ]
  },
  {
   "cell_type": "code",
   "execution_count": 4,
   "id": "833bbddc",
   "metadata": {},
   "outputs": [
    {
     "data": {
      "text/plain": [
       "False"
      ]
     },
     "execution_count": 4,
     "metadata": {},
     "output_type": "execute_result"
    }
   ],
   "source": [
    "bool('')"
   ]
  },
  {
   "cell_type": "code",
   "execution_count": 5,
   "id": "09afe7b1",
   "metadata": {},
   "outputs": [
    {
     "data": {
      "text/plain": [
       "True"
      ]
     },
     "execution_count": 5,
     "metadata": {},
     "output_type": "execute_result"
    }
   ],
   "source": [
    "bool(' ')"
   ]
  },
  {
   "cell_type": "code",
   "execution_count": 6,
   "id": "3f41eb6b",
   "metadata": {},
   "outputs": [
    {
     "data": {
      "text/plain": [
       "[1, 2, 3, 4, 5, 6, 7, 8, 9, 10]"
      ]
     },
     "execution_count": 6,
     "metadata": {},
     "output_type": "execute_result"
    }
   ],
   "source": [
    "list(range(1,11))"
   ]
  },
  {
   "cell_type": "markdown",
   "id": "850e79ed",
   "metadata": {},
   "source": [
    "# list comprehension"
   ]
  },
  {
   "cell_type": "code",
   "execution_count": 8,
   "id": "7e50017a",
   "metadata": {},
   "outputs": [
    {
     "data": {
      "text/plain": [
       "[1, 2, 3, 4, 5, 6, 7, 8, 9, 10]"
      ]
     },
     "execution_count": 8,
     "metadata": {},
     "output_type": "execute_result"
    }
   ],
   "source": [
    "sqr = [i for i in range(1,11)]\n",
    "sqr"
   ]
  },
  {
   "cell_type": "code",
   "execution_count": 9,
   "id": "bcb40ec0",
   "metadata": {},
   "outputs": [
    {
     "data": {
      "text/plain": [
       "[1, 4, 9, 16, 25, 36, 49, 64, 81, 100]"
      ]
     },
     "execution_count": 9,
     "metadata": {},
     "output_type": "execute_result"
    }
   ],
   "source": [
    "sqr2 = [i**2 for i in range(1,11)]\n",
    "sqr2\n",
    "\n",
    "\n",
    "\n"
   ]
  },
  {
   "cell_type": "code",
   "execution_count": 16,
   "id": "148a55a0",
   "metadata": {},
   "outputs": [],
   "source": [
    "num = [i for i in range(1,21) if i%2==0 ]"
   ]
  },
  {
   "cell_type": "code",
   "execution_count": 17,
   "id": "8588dff1",
   "metadata": {},
   "outputs": [
    {
     "data": {
      "text/plain": [
       "[2, 4, 6, 8, 10, 12, 14, 16, 18, 20]"
      ]
     },
     "execution_count": 17,
     "metadata": {},
     "output_type": "execute_result"
    }
   ],
   "source": [
    "num"
   ]
  },
  {
   "cell_type": "code",
   "execution_count": 19,
   "id": "10f5955e",
   "metadata": {},
   "outputs": [
    {
     "data": {
      "text/plain": [
       "['RAJU', 'PINKU', 'RAMU', 'YASH']"
      ]
     },
     "execution_count": 19,
     "metadata": {},
     "output_type": "execute_result"
    }
   ],
   "source": [
    "friends = ['raju','pinku','ramu','yash']\n",
    "friends = [i.upper() for i in friends]\n",
    "friends"
   ]
  },
  {
   "cell_type": "code",
   "execution_count": 22,
   "id": "6290f58f",
   "metadata": {},
   "outputs": [
    {
     "data": {
      "text/plain": [
       "['yash', 'harshit']"
      ]
     },
     "execution_count": 22,
     "metadata": {},
     "output_type": "execute_result"
    }
   ],
   "source": [
    "full_names = ['yash saxena','harshit sharma']\n",
    "first_name = [first_name.split()[0]for first_name in full_names]\n",
    "first_name\n"
   ]
  },
  {
   "cell_type": "code",
   "execution_count": 25,
   "id": "a94d2182",
   "metadata": {},
   "outputs": [
    {
     "data": {
      "text/plain": [
       "['RAJU', 'PINKU', 'RAMU', 'YASH']"
      ]
     },
     "execution_count": 25,
     "metadata": {},
     "output_type": "execute_result"
    }
   ],
   "source": [
    "friends"
   ]
  },
  {
   "cell_type": "code",
   "execution_count": 30,
   "id": "6f260688",
   "metadata": {},
   "outputs": [
    {
     "data": {
      "text/plain": [
       "[['RAJU', 4], ['PINKU', 5], ['RAMU', 4], ['YASH', 4]]"
      ]
     },
     "execution_count": 30,
     "metadata": {},
     "output_type": "execute_result"
    }
   ],
   "source": [
    "[[f,len(f)]for f in friends]"
   ]
  },
  {
   "cell_type": "code",
   "execution_count": null,
   "id": "122c3a87",
   "metadata": {},
   "outputs": [],
   "source": []
  }
 ],
 "metadata": {
  "kernelspec": {
   "display_name": "base",
   "language": "python",
   "name": "python3"
  },
  "language_info": {
   "codemirror_mode": {
    "name": "ipython",
    "version": 3
   },
   "file_extension": ".py",
   "mimetype": "text/x-python",
   "name": "python",
   "nbconvert_exporter": "python",
   "pygments_lexer": "ipython3",
   "version": "3.13.5"
  }
 },
 "nbformat": 4,
 "nbformat_minor": 5
}
