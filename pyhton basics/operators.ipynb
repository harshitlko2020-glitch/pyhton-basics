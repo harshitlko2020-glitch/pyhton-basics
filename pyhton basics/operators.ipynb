{
 "cells": [
  {
   "cell_type": "markdown",
   "id": "77409ff9",
   "metadata": {},
   "source": [
    "# Arithemetic operators"
   ]
  },
  {
   "cell_type": "code",
   "execution_count": 2,
   "id": "1eaa162a",
   "metadata": {},
   "outputs": [],
   "source": [
    "a ,b = (5 , 6)"
   ]
  },
  {
   "cell_type": "code",
   "execution_count": 3,
   "id": "be387c58",
   "metadata": {},
   "outputs": [
    {
     "name": "stdout",
     "output_type": "stream",
     "text": [
      "5 6\n"
     ]
    }
   ],
   "source": [
    "print(a , b)\n"
   ]
  },
  {
   "cell_type": "code",
   "execution_count": null,
   "id": "eb5e9277",
   "metadata": {},
   "outputs": [
    {
     "data": {
      "text/plain": [
       "14"
      ]
     },
     "execution_count": 4,
     "metadata": {},
     "output_type": "execute_result"
    }
   ],
   "source": [
    "# floor division\n",
    "56//4"
   ]
  },
  {
   "cell_type": "code",
   "execution_count": 5,
   "id": "08043b96",
   "metadata": {},
   "outputs": [
    {
     "data": {
      "text/plain": [
       "16"
      ]
     },
     "execution_count": 5,
     "metadata": {},
     "output_type": "execute_result"
    }
   ],
   "source": [
    "2**4"
   ]
  },
  {
   "cell_type": "markdown",
   "id": "3e96b785",
   "metadata": {},
   "source": [
    "# Assignment operators"
   ]
  },
  {
   "cell_type": "code",
   "execution_count": 6,
   "id": "92e2ff7a",
   "metadata": {},
   "outputs": [],
   "source": [
    "a += 5"
   ]
  },
  {
   "cell_type": "code",
   "execution_count": 7,
   "id": "ed9e672b",
   "metadata": {},
   "outputs": [
    {
     "data": {
      "text/plain": [
       "10"
      ]
     },
     "execution_count": 7,
     "metadata": {},
     "output_type": "execute_result"
    }
   ],
   "source": [
    "a"
   ]
  },
  {
   "cell_type": "markdown",
   "id": "d65e7af5",
   "metadata": {},
   "source": [
    "# comparison operators"
   ]
  },
  {
   "cell_type": "code",
   "execution_count": 8,
   "id": "e0dd9201",
   "metadata": {},
   "outputs": [
    {
     "data": {
      "text/plain": [
       "False"
      ]
     },
     "execution_count": 8,
     "metadata": {},
     "output_type": "execute_result"
    }
   ],
   "source": [
    "a == 200"
   ]
  },
  {
   "cell_type": "code",
   "execution_count": 9,
   "id": "29984ebd",
   "metadata": {},
   "outputs": [
    {
     "data": {
      "text/plain": [
       "True"
      ]
     },
     "execution_count": 9,
     "metadata": {},
     "output_type": "execute_result"
    }
   ],
   "source": [
    "a> 3"
   ]
  },
  {
   "cell_type": "markdown",
   "id": "297a738c",
   "metadata": {},
   "source": [
    "# logical operators"
   ]
  },
  {
   "cell_type": "code",
   "execution_count": 10,
   "id": "ed573631",
   "metadata": {},
   "outputs": [
    {
     "data": {
      "text/plain": [
       "False"
      ]
     },
     "execution_count": 10,
     "metadata": {},
     "output_type": "execute_result"
    }
   ],
   "source": [
    "# and logical operator\n",
    "True and False\n"
   ]
  },
  {
   "cell_type": "code",
   "execution_count": 11,
   "id": "5b66db15",
   "metadata": {},
   "outputs": [
    {
     "data": {
      "text/plain": [
       "False"
      ]
     },
     "execution_count": 11,
     "metadata": {},
     "output_type": "execute_result"
    }
   ],
   "source": [
    "not True\n"
   ]
  },
  {
   "cell_type": "code",
   "execution_count": 1,
   "id": "ecd87bbd",
   "metadata": {},
   "outputs": [
    {
     "data": {
      "text/plain": [
       "True"
      ]
     },
     "execution_count": 1,
     "metadata": {},
     "output_type": "execute_result"
    }
   ],
   "source": [
    "not False and not False"
   ]
  },
  {
   "cell_type": "code",
   "execution_count": 13,
   "id": "f020b51f",
   "metadata": {},
   "outputs": [
    {
     "data": {
      "text/plain": [
       "True"
      ]
     },
     "execution_count": 13,
     "metadata": {},
     "output_type": "execute_result"
    }
   ],
   "source": [
    "not (True and False) or True "
   ]
  },
  {
   "cell_type": "code",
   "execution_count": 15,
   "id": "767c05da",
   "metadata": {},
   "outputs": [
    {
     "data": {
      "text/plain": [
       "True"
      ]
     },
     "execution_count": 15,
     "metadata": {},
     "output_type": "execute_result"
    }
   ],
   "source": [
    "not (True and False) or ( True and False) or False"
   ]
  },
  {
   "cell_type": "code",
   "execution_count": 16,
   "id": "a47e6256",
   "metadata": {},
   "outputs": [
    {
     "data": {
      "text/plain": [
       "'Harshit'"
      ]
     },
     "execution_count": 16,
     "metadata": {},
     "output_type": "execute_result"
    }
   ],
   "source": [
    "input('enter your name ')"
   ]
  },
  {
   "cell_type": "code",
   "execution_count": 17,
   "id": "029af63d",
   "metadata": {},
   "outputs": [],
   "source": [
    "name = input('name')"
   ]
  },
  {
   "cell_type": "code",
   "execution_count": 18,
   "id": "242928fd",
   "metadata": {},
   "outputs": [
    {
     "data": {
      "text/plain": [
       "'Harshit Sharma'"
      ]
     },
     "execution_count": 18,
     "metadata": {},
     "output_type": "execute_result"
    }
   ],
   "source": [
    "name"
   ]
  },
  {
   "cell_type": "code",
   "execution_count": 19,
   "id": "536fcb92",
   "metadata": {},
   "outputs": [],
   "source": [
    "name = input('enter your name')"
   ]
  },
  {
   "cell_type": "code",
   "execution_count": 20,
   "id": "21d02b30",
   "metadata": {},
   "outputs": [
    {
     "data": {
      "text/plain": [
       "'HarshitSS'"
      ]
     },
     "execution_count": 20,
     "metadata": {},
     "output_type": "execute_result"
    }
   ],
   "source": [
    "name"
   ]
  },
  {
   "cell_type": "code",
   "execution_count": null,
   "id": "e2e0ccab",
   "metadata": {},
   "outputs": [],
   "source": []
  }
 ],
 "metadata": {
  "kernelspec": {
   "display_name": "base",
   "language": "python",
   "name": "python3"
  },
  "language_info": {
   "codemirror_mode": {
    "name": "ipython",
    "version": 3
   },
   "file_extension": ".py",
   "mimetype": "text/x-python",
   "name": "python",
   "nbconvert_exporter": "python",
   "pygments_lexer": "ipython3",
   "version": "3.13.5"
  }
 },
 "nbformat": 4,
 "nbformat_minor": 5
}
