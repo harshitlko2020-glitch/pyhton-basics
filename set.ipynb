{
 "cells": [
  {
   "cell_type": "code",
   "execution_count": 4,
   "id": "06e075b7",
   "metadata": {},
   "outputs": [],
   "source": [
    "A = {1,2,3,4}\n",
    "B = {5,6,7,8,1,3}"
   ]
  },
  {
   "cell_type": "code",
   "execution_count": 8,
   "id": "0e9d37ce",
   "metadata": {},
   "outputs": [
    {
     "data": {
      "text/plain": [
       "{1, 2, 3, 4, 5, 6, 7, 8}"
      ]
     },
     "execution_count": 8,
     "metadata": {},
     "output_type": "execute_result"
    }
   ],
   "source": [
    "# uniuon \n",
    "(A.union(B))\n",
    "A | B"
   ]
  },
  {
   "cell_type": "code",
   "execution_count": 9,
   "id": "900b3843",
   "metadata": {},
   "outputs": [
    {
     "data": {
      "text/plain": [
       "{1, 3}"
      ]
     },
     "execution_count": 9,
     "metadata": {},
     "output_type": "execute_result"
    }
   ],
   "source": [
    "A & B\n",
    "(A.intersection(B))"
   ]
  },
  {
   "cell_type": "code",
   "execution_count": 10,
   "id": "125a1afe",
   "metadata": {},
   "outputs": [],
   "source": [
    "(A.intersection_update(B))"
   ]
  },
  {
   "cell_type": "code",
   "execution_count": 11,
   "id": "7e2cd1dc",
   "metadata": {},
   "outputs": [
    {
     "data": {
      "text/plain": [
       "True"
      ]
     },
     "execution_count": 11,
     "metadata": {},
     "output_type": "execute_result"
    }
   ],
   "source": [
    "(A.issubset(B))"
   ]
  },
  {
   "cell_type": "code",
   "execution_count": 12,
   "id": "d1041b8e",
   "metadata": {},
   "outputs": [
    {
     "data": {
      "text/plain": [
       "{5, 6, 7, 8}"
      ]
     },
     "execution_count": 12,
     "metadata": {},
     "output_type": "execute_result"
    }
   ],
   "source": [
    "(A.symmetric_difference(B))"
   ]
  },
  {
   "cell_type": "code",
   "execution_count": null,
   "id": "3ff78614",
   "metadata": {},
   "outputs": [],
   "source": []
  }
 ],
 "metadata": {
  "kernelspec": {
   "display_name": "base",
   "language": "python",
   "name": "python3"
  },
  "language_info": {
   "codemirror_mode": {
    "name": "ipython",
    "version": 3
   },
   "file_extension": ".py",
   "mimetype": "text/x-python",
   "name": "python",
   "nbconvert_exporter": "python",
   "pygments_lexer": "ipython3",
   "version": "3.13.5"
  }
 },
 "nbformat": 4,
 "nbformat_minor": 5
}
