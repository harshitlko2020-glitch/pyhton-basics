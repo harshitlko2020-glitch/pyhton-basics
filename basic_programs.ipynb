{
 "cells": [
  {
   "cell_type": "code",
   "execution_count": 2,
   "id": "81fc09e7",
   "metadata": {},
   "outputs": [],
   "source": [
    "a ,b = 10,20"
   ]
  },
  {
   "cell_type": "code",
   "execution_count": 4,
   "id": "d0ea8cc2",
   "metadata": {},
   "outputs": [
    {
     "data": {
      "text/plain": [
       "(10, 20)"
      ]
     },
     "execution_count": 4,
     "metadata": {},
     "output_type": "execute_result"
    }
   ],
   "source": [
    "a,b"
   ]
  },
  {
   "cell_type": "code",
   "execution_count": 5,
   "id": "b5bc0028",
   "metadata": {},
   "outputs": [],
   "source": [
    "c = a+b"
   ]
  },
  {
   "cell_type": "code",
   "execution_count": 6,
   "id": "e1a755e0",
   "metadata": {},
   "outputs": [
    {
     "data": {
      "text/plain": [
       "30"
      ]
     },
     "execution_count": 6,
     "metadata": {},
     "output_type": "execute_result"
    }
   ],
   "source": [
    "c"
   ]
  },
  {
   "cell_type": "code",
   "execution_count": 7,
   "id": "97e8e70d",
   "metadata": {},
   "outputs": [
    {
     "name": "stdout",
     "output_type": "stream",
     "text": [
      "30\n"
     ]
    }
   ],
   "source": [
    "print(c)"
   ]
  },
  {
   "cell_type": "code",
   "execution_count": 14,
   "id": "79835764",
   "metadata": {},
   "outputs": [],
   "source": [
    "num1 = int(input(\"enter first number\"))\n",
    "num2 = int(input(\"enter secondd number\"))"
   ]
  },
  {
   "cell_type": "code",
   "execution_count": 9,
   "id": "ad9cd3ee",
   "metadata": {},
   "outputs": [
    {
     "name": "stdout",
     "output_type": "stream",
     "text": [
      "33 45\n"
     ]
    }
   ],
   "source": [
    "print(num1,num2)"
   ]
  },
  {
   "cell_type": "code",
   "execution_count": 15,
   "id": "fa4d6875",
   "metadata": {},
   "outputs": [
    {
     "data": {
      "text/plain": [
       "78"
      ]
     },
     "execution_count": 15,
     "metadata": {},
     "output_type": "execute_result"
    }
   ],
   "source": [
    "num1 +num2"
   ]
  },
  {
   "cell_type": "code",
   "execution_count": 16,
   "id": "57bb90df",
   "metadata": {},
   "outputs": [],
   "source": [
    "m1 = int(input(\"enter marks\"))\n",
    "m2 = int (input(\"enter marks\"))\n",
    "m3 = int (input(\"enter marks\"))"
   ]
  },
  {
   "cell_type": "code",
   "execution_count": 17,
   "id": "915a4b06",
   "metadata": {},
   "outputs": [
    {
     "data": {
      "text/plain": [
       "3.6666666666666665"
      ]
     },
     "execution_count": 17,
     "metadata": {},
     "output_type": "execute_result"
    }
   ],
   "source": [
    "(m1+m2+m3)/3"
   ]
  },
  {
   "cell_type": "code",
   "execution_count": 18,
   "id": "35172e6f",
   "metadata": {},
   "outputs": [
    {
     "data": {
      "text/plain": [
       "7.0"
      ]
     },
     "execution_count": 18,
     "metadata": {},
     "output_type": "execute_result"
    }
   ],
   "source": [
    "m1 +m2+m3 /3"
   ]
  },
  {
   "cell_type": "code",
   "execution_count": 19,
   "id": "b87f869f",
   "metadata": {},
   "outputs": [
    {
     "name": "stdout",
     "output_type": "stream",
     "text": [
      "3.6666666666666665\n"
     ]
    }
   ],
   "source": [
    "avg = (m1+m2+m3)/3\n",
    "print(avg)"
   ]
  },
  {
   "cell_type": "code",
   "execution_count": 20,
   "id": "12b709d5",
   "metadata": {},
   "outputs": [
    {
     "ename": "SyntaxError",
     "evalue": "unexpected character after line continuation character (903404282.py, line 1)",
     "output_type": "error",
     "traceback": [
      "  \u001b[36mCell\u001b[39m\u001b[36m \u001b[39m\u001b[32mIn[20]\u001b[39m\u001b[32m, line 1\u001b[39m\n\u001b[31m    \u001b[39m\u001b[31m[x,y,z] = input(\" enter three numbers \"\\n)\u001b[39m\n                                            ^\n\u001b[31mSyntaxError\u001b[39m\u001b[31m:\u001b[39m unexpected character after line continuation character\n"
     ]
    }
   ],
   "source": [
    "[x,y,z] = input(\" enter three numbers \"\\n)"
   ]
  },
  {
   "cell_type": "code",
   "execution_count": 21,
   "id": "68636a68",
   "metadata": {},
   "outputs": [
    {
     "ename": "ValueError",
     "evalue": "not enough values to unpack (expected 3, got 1)",
     "output_type": "error",
     "traceback": [
      "\u001b[31m---------------------------------------------------------------------------\u001b[39m",
      "\u001b[31mValueError\u001b[39m                                Traceback (most recent call last)",
      "\u001b[36mCell\u001b[39m\u001b[36m \u001b[39m\u001b[32mIn[21]\u001b[39m\u001b[32m, line 1\u001b[39m\n\u001b[32m----> \u001b[39m\u001b[32m1\u001b[39m [x,y,z] = \u001b[38;5;28minput\u001b[39m(\u001b[33m\"\u001b[39m\u001b[33m enter three numbers \u001b[39m\u001b[33m\"\u001b[39m).split()\n",
      "\u001b[31mValueError\u001b[39m: not enough values to unpack (expected 3, got 1)"
     ]
    }
   ],
   "source": [
    "[x,y,z] = input(\" enter three numbers \").split()\n"
   ]
  },
  {
   "cell_type": "code",
   "execution_count": 22,
   "id": "75a17bb6",
   "metadata": {},
   "outputs": [],
   "source": [
    "[x,y,z] = input(\" enter three numbers \").split()\n"
   ]
  },
  {
   "cell_type": "code",
   "execution_count": 23,
   "id": "a4b81683",
   "metadata": {},
   "outputs": [
    {
     "name": "stdout",
     "output_type": "stream",
     "text": [
      "11 22 33\n"
     ]
    }
   ],
   "source": [
    "print(x,y,z)"
   ]
  },
  {
   "cell_type": "markdown",
   "id": "3be629bb",
   "metadata": {},
   "source": [
    "# wap to input radius and print area of circle\n",
    "# wap to take name as input and display name with greetings"
   ]
  },
  {
   "cell_type": "code",
   "execution_count": 25,
   "id": "ac56fb02",
   "metadata": {},
   "outputs": [],
   "source": [
    "radius = float(input(\"enter the radius\"))\n",
    "area = 3.14*radius**2"
   ]
  },
  {
   "cell_type": "code",
   "execution_count": 26,
   "id": "773ce2d5",
   "metadata": {},
   "outputs": [
    {
     "name": "stdout",
     "output_type": "stream",
     "text": [
      "78.5\n"
     ]
    }
   ],
   "source": [
    "print(area)"
   ]
  },
  {
   "cell_type": "code",
   "execution_count": 28,
   "id": "3f7eb777",
   "metadata": {},
   "outputs": [
    {
     "name": "stdout",
     "output_type": "stream",
     "text": [
      "good morning pineapple\n"
     ]
    }
   ],
   "source": [
    "name = input(\"enter a name\")\n",
    "print(\"good morning\",name)"
   ]
  },
  {
   "cell_type": "code",
   "execution_count": 30,
   "id": "98b0b482",
   "metadata": {},
   "outputs": [
    {
     "name": "stdout",
     "output_type": "stream",
     "text": [
      "good morning  pineapple\n"
     ]
    }
   ],
   "source": [
    "print(f'good morning  {name}')"
   ]
  },
  {
   "cell_type": "code",
   "execution_count": 31,
   "id": "6ecb0b21",
   "metadata": {},
   "outputs": [
    {
     "data": {
      "text/plain": [
       "'yashyashyashyash'"
      ]
     },
     "execution_count": 31,
     "metadata": {},
     "output_type": "execute_result"
    }
   ],
   "source": [
    "'yash'*4"
   ]
  },
  {
   "cell_type": "code",
   "execution_count": 32,
   "id": "6a689afb",
   "metadata": {},
   "outputs": [],
   "source": [
    "# Wap to print square root"
   ]
  },
  {
   "cell_type": "code",
   "execution_count": 33,
   "id": "43817b26",
   "metadata": {},
   "outputs": [
    {
     "ename": "SyntaxError",
     "evalue": "invalid syntax (4292345334.py, line 2)",
     "output_type": "error",
     "traceback": [
      "  \u001b[36mCell\u001b[39m\u001b[36m \u001b[39m\u001b[32mIn[33]\u001b[39m\u001b[32m, line 2\u001b[39m\n\u001b[31m    \u001b[39m\u001b[31msqr = ^num\u001b[39m\n          ^\n\u001b[31mSyntaxError\u001b[39m\u001b[31m:\u001b[39m invalid syntax\n"
     ]
    }
   ],
   "source": [
    "num = int(input(\"enter a number\"))\n",
    "sqr = ^num"
   ]
  },
  {
   "cell_type": "code",
   "execution_count": 34,
   "id": "90e281af",
   "metadata": {},
   "outputs": [
    {
     "ename": "SyntaxError",
     "evalue": "invalid syntax (2698715478.py, line 2)",
     "output_type": "error",
     "traceback": [
      "  \u001b[36mCell\u001b[39m\u001b[36m \u001b[39m\u001b[32mIn[34]\u001b[39m\u001b[32m, line 2\u001b[39m\n\u001b[31m    \u001b[39m\u001b[31msqrttt = num^\u001b[39m\n                 ^\n\u001b[31mSyntaxError\u001b[39m\u001b[31m:\u001b[39m invalid syntax\n"
     ]
    }
   ],
   "source": [
    "\n",
    "num = int(input(\"enter a number\"))\n",
    "sqrttt = num^\n"
   ]
  },
  {
   "cell_type": "code",
   "execution_count": 35,
   "id": "46802eb5",
   "metadata": {},
   "outputs": [],
   "source": [
    "num = int(input(\"enter a number\"))\n",
    "sqrtt = num*0.33"
   ]
  },
  {
   "cell_type": "code",
   "execution_count": 36,
   "id": "2588f264",
   "metadata": {},
   "outputs": [
    {
     "data": {
      "text/plain": [
       "1.6500000000000001"
      ]
     },
     "execution_count": 36,
     "metadata": {},
     "output_type": "execute_result"
    }
   ],
   "source": [
    "sqrtt"
   ]
  },
  {
   "cell_type": "code",
   "execution_count": 37,
   "id": "07e3a746",
   "metadata": {},
   "outputs": [],
   "source": [
    "import random "
   ]
  },
  {
   "cell_type": "code",
   "execution_count": 39,
   "id": "65a62bfa",
   "metadata": {},
   "outputs": [
    {
     "data": {
      "text/plain": [
       "34.23789365233102"
      ]
     },
     "execution_count": 39,
     "metadata": {},
     "output_type": "execute_result"
    }
   ],
   "source": [
    "random.random() *100"
   ]
  },
  {
   "cell_type": "code",
   "execution_count": 41,
   "id": "6dfebc81",
   "metadata": {},
   "outputs": [
    {
     "data": {
      "text/plain": [
       "20"
      ]
     },
     "execution_count": 41,
     "metadata": {},
     "output_type": "execute_result"
    }
   ],
   "source": [
    "random.randint(10,20)"
   ]
  },
  {
   "cell_type": "code",
   "execution_count": 42,
   "id": "a1a41a0e",
   "metadata": {},
   "outputs": [
    {
     "data": {
      "text/plain": [
       "'bGmi'"
      ]
     },
     "execution_count": 42,
     "metadata": {},
     "output_type": "execute_result"
    }
   ],
   "source": [
    "random.choice(['bGmi','coc','cod'])"
   ]
  },
  {
   "cell_type": "code",
   "execution_count": 43,
   "id": "fa2f1ef1",
   "metadata": {},
   "outputs": [
    {
     "data": {
      "text/plain": [
       "['coc', 'bGmi']"
      ]
     },
     "execution_count": 43,
     "metadata": {},
     "output_type": "execute_result"
    }
   ],
   "source": [
    "random.choices(['bGmi','coc','cod'] , k =2)\n"
   ]
  },
  {
   "cell_type": "code",
   "execution_count": 44,
   "id": "80695377",
   "metadata": {},
   "outputs": [],
   "source": [
    "games = ['coc','cod','bgmi']\n",
    "random.shuffle(games)"
   ]
  },
  {
   "cell_type": "code",
   "execution_count": 45,
   "id": "ab674367",
   "metadata": {},
   "outputs": [
    {
     "data": {
      "text/plain": [
       "['coc', 'bgmi', 'cod']"
      ]
     },
     "execution_count": 45,
     "metadata": {},
     "output_type": "execute_result"
    }
   ],
   "source": [
    "games"
   ]
  },
  {
   "cell_type": "code",
   "execution_count": 47,
   "id": "0d83ed49",
   "metadata": {},
   "outputs": [],
   "source": [
    "import math as m"
   ]
  },
  {
   "cell_type": "code",
   "execution_count": 48,
   "id": "a3e9179d",
   "metadata": {},
   "outputs": [
    {
     "data": {
      "text/plain": [
       "1.0"
      ]
     },
     "execution_count": 48,
     "metadata": {},
     "output_type": "execute_result"
    }
   ],
   "source": [
    "m.cos(0)"
   ]
  },
  {
   "cell_type": "code",
   "execution_count": 49,
   "id": "c0220c1b",
   "metadata": {},
   "outputs": [
    {
     "data": {
      "text/plain": [
       "0.8939966636005579"
      ]
     },
     "execution_count": 49,
     "metadata": {},
     "output_type": "execute_result"
    }
   ],
   "source": [
    "m.sin(90)"
   ]
  },
  {
   "cell_type": "code",
   "execution_count": null,
   "id": "dcd8b2f3",
   "metadata": {},
   "outputs": [],
   "source": []
  }
 ],
 "metadata": {
  "kernelspec": {
   "display_name": "base",
   "language": "python",
   "name": "python3"
  },
  "language_info": {
   "codemirror_mode": {
    "name": "ipython",
    "version": 3
   },
   "file_extension": ".py",
   "mimetype": "text/x-python",
   "name": "python",
   "nbconvert_exporter": "python",
   "pygments_lexer": "ipython3",
   "version": "3.13.5"
  }
 },
 "nbformat": 4,
 "nbformat_minor": 5
}
