{
 "cells": [
  {
   "cell_type": "code",
   "execution_count": null,
   "id": "7ead7964",
   "metadata": {},
   "outputs": [],
   "source": [
    "dialogue = \"This is Sparta\""
   ]
  },
  {
   "cell_type": "code",
   "execution_count": null,
   "id": "5006a735",
   "metadata": {},
   "outputs": [],
   "source": [
    "# indexing\n",
    "\n",
    "dialogue[-2]\n"
   ]
  },
  {
   "cell_type": "code",
   "execution_count": 9,
   "id": "89975cd2",
   "metadata": {},
   "outputs": [
    {
     "data": {
      "text/plain": [
       "3"
      ]
     },
     "execution_count": 9,
     "metadata": {},
     "output_type": "execute_result"
    }
   ],
   "source": [
    "dialogue.index('s')"
   ]
  },
  {
   "cell_type": "code",
   "execution_count": 30,
   "id": "f28c5a21",
   "metadata": {},
   "outputs": [
    {
     "data": {
      "text/plain": [
       "6"
      ]
     },
     "execution_count": 30,
     "metadata": {},
     "output_type": "execute_result"
    }
   ],
   "source": [
    "dialogue.rindex('s')\n",
    "\n"
   ]
  },
  {
   "cell_type": "code",
   "execution_count": 13,
   "id": "d6130573",
   "metadata": {},
   "outputs": [
    {
     "data": {
      "text/plain": [
       "-1"
      ]
     },
     "execution_count": 13,
     "metadata": {},
     "output_type": "execute_result"
    }
   ],
   "source": [
    "dialogue.find('x')"
   ]
  },
  {
   "cell_type": "code",
   "execution_count": 14,
   "id": "7dde498a",
   "metadata": {},
   "outputs": [
    {
     "data": {
      "text/plain": [
       "'Thi'"
      ]
     },
     "execution_count": 14,
     "metadata": {},
     "output_type": "execute_result"
    }
   ],
   "source": [
    "# slicing \n",
    "\n",
    "dialogue[0:3]"
   ]
  },
  {
   "cell_type": "code",
   "execution_count": 15,
   "id": "e6518a8e",
   "metadata": {},
   "outputs": [
    {
     "data": {
      "text/plain": [
       "'This'"
      ]
     },
     "execution_count": 15,
     "metadata": {},
     "output_type": "execute_result"
    }
   ],
   "source": [
    "dialogue[0:4]"
   ]
  },
  {
   "cell_type": "code",
   "execution_count": 16,
   "id": "60068548",
   "metadata": {},
   "outputs": [
    {
     "data": {
      "text/plain": [
       "14"
      ]
     },
     "execution_count": 16,
     "metadata": {},
     "output_type": "execute_result"
    }
   ],
   "source": [
    "len(dialogue)\n"
   ]
  },
  {
   "cell_type": "code",
   "execution_count": 17,
   "id": "9cb444ba",
   "metadata": {},
   "outputs": [
    {
     "data": {
      "text/plain": [
       "'This is Spart'"
      ]
     },
     "execution_count": 17,
     "metadata": {},
     "output_type": "execute_result"
    }
   ],
   "source": [
    "dialogue[0:-1]"
   ]
  },
  {
   "cell_type": "code",
   "execution_count": 19,
   "id": "1172f77f",
   "metadata": {},
   "outputs": [
    {
     "data": {
      "text/plain": [
       "'T'"
      ]
     },
     "execution_count": 19,
     "metadata": {},
     "output_type": "execute_result"
    }
   ],
   "source": [
    "dialogue[0]"
   ]
  },
  {
   "cell_type": "code",
   "execution_count": 20,
   "id": "9e7c96cd",
   "metadata": {},
   "outputs": [
    {
     "data": {
      "text/plain": [
       "'S'"
      ]
     },
     "execution_count": 20,
     "metadata": {},
     "output_type": "execute_result"
    }
   ],
   "source": [
    "dialogue[-6]"
   ]
  },
  {
   "cell_type": "code",
   "execution_count": 21,
   "id": "35afb83c",
   "metadata": {},
   "outputs": [
    {
     "data": {
      "text/plain": [
       "'ap'"
      ]
     },
     "execution_count": 21,
     "metadata": {},
     "output_type": "execute_result"
    }
   ],
   "source": [
    "dialogue[-4:-6:-1]\n"
   ]
  },
  {
   "cell_type": "code",
   "execution_count": 22,
   "id": "e44c0af1",
   "metadata": {},
   "outputs": [
    {
     "data": {
      "text/plain": [
       "'atrapS si sihT'"
      ]
     },
     "execution_count": 22,
     "metadata": {},
     "output_type": "execute_result"
    }
   ],
   "source": [
    "dialogue[ : :-1]"
   ]
  },
  {
   "cell_type": "code",
   "execution_count": 23,
   "id": "06f58388",
   "metadata": {},
   "outputs": [
    {
     "data": {
      "text/plain": [
       "'his is Sparta'"
      ]
     },
     "execution_count": 23,
     "metadata": {},
     "output_type": "execute_result"
    }
   ],
   "source": [
    "dialogue[1: ]"
   ]
  },
  {
   "cell_type": "code",
   "execution_count": 24,
   "id": "f75790ea",
   "metadata": {},
   "outputs": [
    {
     "data": {
      "text/plain": [
       "'his is Sparta'"
      ]
     },
     "execution_count": 24,
     "metadata": {},
     "output_type": "execute_result"
    }
   ],
   "source": [
    "dialogue[1: ]\n"
   ]
  },
  {
   "cell_type": "code",
   "execution_count": 25,
   "id": "cef28bbd",
   "metadata": {},
   "outputs": [
    {
     "data": {
      "text/plain": [
       "'hT'"
      ]
     },
     "execution_count": 25,
     "metadata": {},
     "output_type": "execute_result"
    }
   ],
   "source": [
    "dialogue[1: :-1]\n"
   ]
  },
  {
   "cell_type": "code",
   "execution_count": 26,
   "id": "784e7027",
   "metadata": {},
   "outputs": [
    {
     "data": {
      "text/plain": [
       "'hsi p'"
      ]
     },
     "execution_count": 26,
     "metadata": {},
     "output_type": "execute_result"
    }
   ],
   "source": [
    "dialogue[1:10:2 ]\n"
   ]
  },
  {
   "cell_type": "code",
   "execution_count": 27,
   "id": "65a9796b",
   "metadata": {},
   "outputs": [
    {
     "data": {
      "text/plain": [
       "'Ti sSat'"
      ]
     },
     "execution_count": 27,
     "metadata": {},
     "output_type": "execute_result"
    }
   ],
   "source": [
    "dialogue[0: :2]\n"
   ]
  },
  {
   "cell_type": "code",
   "execution_count": 29,
   "id": "20dd94db",
   "metadata": {},
   "outputs": [
    {
     "name": "stdout",
     "output_type": "stream",
     "text": [
      "54321\n"
     ]
    }
   ],
   "source": [
    "n = int(input('enter a number '))\n",
    "\n",
    "print(str(n)[::-1])"
   ]
  },
  {
   "cell_type": "code",
   "execution_count": 32,
   "id": "ee16b928",
   "metadata": {},
   "outputs": [
    {
     "data": {
      "text/plain": [
       "6"
      ]
     },
     "execution_count": 32,
     "metadata": {},
     "output_type": "execute_result"
    }
   ],
   "source": [
    "name = \"madan mohan malviya\"\n",
    "\n",
    "name.find('m' , 1)"
   ]
  },
  {
   "cell_type": "code",
   "execution_count": 37,
   "id": "fe7e1854",
   "metadata": {},
   "outputs": [
    {
     "name": "stdout",
     "output_type": "stream",
     "text": [
      "0\n",
      "6\n",
      "12\n"
     ]
    }
   ],
   "source": [
    "lastfound = -1\n",
    "while True:\n",
    "    lastfound = name.find('m', lastfound+1)\n",
    "    if lastfound != -1:\n",
    "        print(lastfound)\n",
    "    else:\n",
    "        break"
   ]
  },
  {
   "cell_type": "code",
   "execution_count": 38,
   "id": "39e3e24a",
   "metadata": {},
   "outputs": [
    {
     "data": {
      "text/plain": [
       "2"
      ]
     },
     "execution_count": 38,
     "metadata": {},
     "output_type": "execute_result"
    }
   ],
   "source": [
    "dialogue.count('s')"
   ]
  },
  {
   "cell_type": "code",
   "execution_count": 39,
   "id": "71ebcf0c",
   "metadata": {},
   "outputs": [
    {
     "data": {
      "text/plain": [
       "0"
      ]
     },
     "execution_count": 39,
     "metadata": {},
     "output_type": "execute_result"
    }
   ],
   "source": [
    "dialogue.count('this')"
   ]
  },
  {
   "cell_type": "code",
   "execution_count": 40,
   "id": "f9f927ea",
   "metadata": {},
   "outputs": [
    {
     "data": {
      "text/plain": [
       "12"
      ]
     },
     "execution_count": 40,
     "metadata": {},
     "output_type": "execute_result"
    }
   ],
   "source": [
    "name.rfind('m')"
   ]
  },
  {
   "cell_type": "code",
   "execution_count": 41,
   "id": "e01cac3f",
   "metadata": {},
   "outputs": [
    {
     "data": {
      "text/plain": [
       "['This is Sparta']"
      ]
     },
     "execution_count": 41,
     "metadata": {},
     "output_type": "execute_result"
    }
   ],
   "source": [
    "dialogue.split('@')"
   ]
  },
  {
   "cell_type": "code",
   "execution_count": 42,
   "id": "2f73eaa5",
   "metadata": {},
   "outputs": [
    {
     "data": {
      "text/plain": [
       "['This', 'is', 'Sparta']"
      ]
     },
     "execution_count": 42,
     "metadata": {},
     "output_type": "execute_result"
    }
   ],
   "source": [
    "dialogue.split()"
   ]
  },
  {
   "cell_type": "code",
   "execution_count": 43,
   "id": "0bfc3246",
   "metadata": {},
   "outputs": [
    {
     "data": {
      "text/plain": [
       "['Thi', ' i', ' Sparta']"
      ]
     },
     "execution_count": 43,
     "metadata": {},
     "output_type": "execute_result"
    }
   ],
   "source": [
    "dialogue.split('s')"
   ]
  },
  {
   "cell_type": "code",
   "execution_count": 44,
   "id": "d70f2b17",
   "metadata": {},
   "outputs": [
    {
     "data": {
      "text/plain": [
       "['This', 'is', 'Sparta']"
      ]
     },
     "execution_count": 44,
     "metadata": {},
     "output_type": "execute_result"
    }
   ],
   "source": [
    "dialogue.split()"
   ]
  },
  {
   "cell_type": "code",
   "execution_count": 46,
   "id": "e59713d8",
   "metadata": {},
   "outputs": [
    {
     "data": {
      "text/plain": [
       "'abc'"
      ]
     },
     "execution_count": 46,
     "metadata": {},
     "output_type": "execute_result"
    }
   ],
   "source": [
    "'  abc'.strip()"
   ]
  },
  {
   "cell_type": "code",
   "execution_count": 47,
   "id": "473ffdd5",
   "metadata": {},
   "outputs": [
    {
     "data": {
      "text/plain": [
       "'bx'"
      ]
     },
     "execution_count": 47,
     "metadata": {},
     "output_type": "execute_result"
    }
   ],
   "source": [
    "'$$$$abx'.strip('$a')"
   ]
  },
  {
   "cell_type": "code",
   "execution_count": 48,
   "id": "3c08bdfb",
   "metadata": {},
   "outputs": [
    {
     "data": {
      "text/plain": [
       "'bx'"
      ]
     },
     "execution_count": 48,
     "metadata": {},
     "output_type": "execute_result"
    }
   ],
   "source": [
    "'$$$$abx'.strip('a$')\n"
   ]
  },
  {
   "cell_type": "code",
   "execution_count": 49,
   "id": "128f8322",
   "metadata": {},
   "outputs": [
    {
     "data": {
      "text/plain": [
       "'This@is@Sparta'"
      ]
     },
     "execution_count": 49,
     "metadata": {},
     "output_type": "execute_result"
    }
   ],
   "source": [
    "dialogue.replace(' ','@')"
   ]
  },
  {
   "cell_type": "code",
   "execution_count": 50,
   "id": "d9c3f088",
   "metadata": {},
   "outputs": [
    {
     "data": {
      "text/plain": [
       "'This is sparta'"
      ]
     },
     "execution_count": 50,
     "metadata": {},
     "output_type": "execute_result"
    }
   ],
   "source": [
    "dialogue.capitalize()"
   ]
  },
  {
   "cell_type": "code",
   "execution_count": 51,
   "id": "bc86ed86",
   "metadata": {},
   "outputs": [
    {
     "data": {
      "text/plain": [
       "False"
      ]
     },
     "execution_count": 51,
     "metadata": {},
     "output_type": "execute_result"
    }
   ],
   "source": [
    "dialogue.isupper()"
   ]
  },
  {
   "cell_type": "code",
   "execution_count": 52,
   "id": "d6fe5cf4",
   "metadata": {},
   "outputs": [
    {
     "data": {
      "text/plain": [
       "True"
      ]
     },
     "execution_count": 52,
     "metadata": {},
     "output_type": "execute_result"
    }
   ],
   "source": [
    "dialogue.isascii()"
   ]
  },
  {
   "cell_type": "code",
   "execution_count": null,
   "id": "1312c1e0",
   "metadata": {},
   "outputs": [
    {
     "name": "stdout",
     "output_type": "stream",
     "text": [
      "THIS IS SPARTA\n",
      "this is sparta\n",
      "This is sparta\n",
      "This Is Sparta\n",
      "tHIS IS sPARTA\n",
      "this is sparta\n"
     ]
    }
   ],
   "source": [
    "print(dialogue.upper())\n",
    "print(dialogue.lower())\n",
    "print(dialogue.capitalize())\n",
    "print(dialogue.title())\n",
    "print(dialogue.swapcase())\n",
    "print(dialogue.casefold())"
   ]
  },
  {
   "cell_type": "code",
   "execution_count": 55,
   "id": "62f8836d",
   "metadata": {},
   "outputs": [
    {
     "data": {
      "text/plain": [
       "False"
      ]
     },
     "execution_count": 55,
     "metadata": {},
     "output_type": "execute_result"
    }
   ],
   "source": [
    "dialogue.istitle()"
   ]
  },
  {
   "cell_type": "code",
   "execution_count": 57,
   "id": "b118c29a",
   "metadata": {},
   "outputs": [
    {
     "data": {
      "text/plain": [
       "False"
      ]
     },
     "execution_count": 57,
     "metadata": {},
     "output_type": "execute_result"
    }
   ],
   "source": [
    "dialogue.isupper()"
   ]
  },
  {
   "cell_type": "code",
   "execution_count": 58,
   "id": "02315523",
   "metadata": {},
   "outputs": [
    {
     "data": {
      "text/plain": [
       "True"
      ]
     },
     "execution_count": 58,
     "metadata": {},
     "output_type": "execute_result"
    }
   ],
   "source": [
    "'abc'.isalnum()"
   ]
  },
  {
   "cell_type": "code",
   "execution_count": 62,
   "id": "0119a5b1",
   "metadata": {},
   "outputs": [],
   "source": [
    "dialogue = \" I am    Batman\"\n",
    "mylist = dialogue.split()"
   ]
  },
  {
   "cell_type": "code",
   "execution_count": 63,
   "id": "88c223e6",
   "metadata": {},
   "outputs": [
    {
     "data": {
      "text/plain": [
       "'I am Batman'"
      ]
     },
     "execution_count": 63,
     "metadata": {},
     "output_type": "execute_result"
    }
   ],
   "source": [
    "' '.join(mylist)"
   ]
  },
  {
   "cell_type": "code",
   "execution_count": 64,
   "id": "726c2c99",
   "metadata": {},
   "outputs": [
    {
     "data": {
      "text/plain": [
       "'ABCDE'"
      ]
     },
     "execution_count": 64,
     "metadata": {},
     "output_type": "execute_result"
    }
   ],
   "source": [
    "dialogue3 = 'A_B_C_D_E'\n",
    "dialogue3.replace('_','')"
   ]
  },
  {
   "cell_type": "code",
   "execution_count": 67,
   "id": "25478db4",
   "metadata": {},
   "outputs": [
    {
     "data": {
      "text/plain": [
       "'ABCDE'"
      ]
     },
     "execution_count": 67,
     "metadata": {},
     "output_type": "execute_result"
    }
   ],
   "source": [
    "dialogue3[::2]"
   ]
  },
  {
   "cell_type": "code",
   "execution_count": 69,
   "id": "a07c57e3",
   "metadata": {},
   "outputs": [],
   "source": [
    "myname = \"harshit\""
   ]
  },
  {
   "cell_type": "code",
   "execution_count": null,
   "id": "27ceaa17",
   "metadata": {},
   "outputs": [],
   "source": []
  }
 ],
 "metadata": {
  "kernelspec": {
   "display_name": "base",
   "language": "python",
   "name": "python3"
  },
  "language_info": {
   "codemirror_mode": {
    "name": "ipython",
    "version": 3
   },
   "file_extension": ".py",
   "mimetype": "text/x-python",
   "name": "python",
   "nbconvert_exporter": "python",
   "pygments_lexer": "ipython3",
   "version": "3.13.5"
  }
 },
 "nbformat": 4,
 "nbformat_minor": 5
}
